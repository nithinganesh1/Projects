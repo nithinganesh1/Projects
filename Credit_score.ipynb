{
 "cells": [
  {
   "cell_type": "code",
   "execution_count": 1,
   "id": "9a450231",
   "metadata": {},
   "outputs": [],
   "source": [
    "import numpy as np\n",
    "import pandas as pd"
   ]
  },
  {
   "cell_type": "markdown",
   "id": "260a476e",
   "metadata": {},
   "source": [
    "#### The goal is to build a machine learning model that can classify the credit score of a person given their credit-related information."
   ]
  },
  {
   "cell_type": "code",
   "execution_count": 2,
   "id": "86e956c7",
   "metadata": {},
   "outputs": [
    {
     "name": "stderr",
     "output_type": "stream",
     "text": [
      "C:\\Users\\Nithin\\AppData\\Local\\Temp\\ipykernel_21824\\2357429462.py:1: DtypeWarning: Columns (26) have mixed types. Specify dtype option on import or set low_memory=False.\n",
      "  df = pd.read_csv(r\"E:\\Projects Datas\\credit_score.csv\")\n"
     ]
    },
    {
     "data": {
      "text/html": [
       "<div>\n",
       "<style scoped>\n",
       "    .dataframe tbody tr th:only-of-type {\n",
       "        vertical-align: middle;\n",
       "    }\n",
       "\n",
       "    .dataframe tbody tr th {\n",
       "        vertical-align: top;\n",
       "    }\n",
       "\n",
       "    .dataframe thead th {\n",
       "        text-align: right;\n",
       "    }\n",
       "</style>\n",
       "<table border=\"1\" class=\"dataframe\">\n",
       "  <thead>\n",
       "    <tr style=\"text-align: right;\">\n",
       "      <th></th>\n",
       "      <th>Month</th>\n",
       "      <th>Age</th>\n",
       "      <th>Occupation</th>\n",
       "      <th>Annual_Income</th>\n",
       "      <th>Monthly_Inhand_Salary</th>\n",
       "      <th>Num_Bank_Accounts</th>\n",
       "      <th>Num_Credit_Card</th>\n",
       "      <th>Interest_Rate</th>\n",
       "      <th>Num_of_Loan</th>\n",
       "      <th>Delay_from_due_date</th>\n",
       "      <th>...</th>\n",
       "      <th>Num_Credit_Inquiries</th>\n",
       "      <th>Credit_Mix</th>\n",
       "      <th>Outstanding_Debt</th>\n",
       "      <th>Credit_Utilization_Ratio</th>\n",
       "      <th>Payment_of_Min_Amount</th>\n",
       "      <th>Total_EMI_per_month</th>\n",
       "      <th>Amount_invested_monthly</th>\n",
       "      <th>Payment_Behaviour</th>\n",
       "      <th>Monthly_Balance</th>\n",
       "      <th>Credit_Score</th>\n",
       "    </tr>\n",
       "  </thead>\n",
       "  <tbody>\n",
       "    <tr>\n",
       "      <th>0</th>\n",
       "      <td>January</td>\n",
       "      <td>23</td>\n",
       "      <td>Scientist</td>\n",
       "      <td>19114.12</td>\n",
       "      <td>1824.843333</td>\n",
       "      <td>3</td>\n",
       "      <td>4</td>\n",
       "      <td>3</td>\n",
       "      <td>4</td>\n",
       "      <td>3</td>\n",
       "      <td>...</td>\n",
       "      <td>4.0</td>\n",
       "      <td>_</td>\n",
       "      <td>809.98</td>\n",
       "      <td>26.822620</td>\n",
       "      <td>No</td>\n",
       "      <td>49.574949</td>\n",
       "      <td>80.41529543900253</td>\n",
       "      <td>High_spent_Small_value_payments</td>\n",
       "      <td>312.49408867943663</td>\n",
       "      <td>Good</td>\n",
       "    </tr>\n",
       "    <tr>\n",
       "      <th>1</th>\n",
       "      <td>February</td>\n",
       "      <td>23</td>\n",
       "      <td>Scientist</td>\n",
       "      <td>19114.12</td>\n",
       "      <td>NaN</td>\n",
       "      <td>3</td>\n",
       "      <td>4</td>\n",
       "      <td>3</td>\n",
       "      <td>4</td>\n",
       "      <td>-1</td>\n",
       "      <td>...</td>\n",
       "      <td>4.0</td>\n",
       "      <td>Good</td>\n",
       "      <td>809.98</td>\n",
       "      <td>31.944960</td>\n",
       "      <td>No</td>\n",
       "      <td>49.574949</td>\n",
       "      <td>118.28022162236736</td>\n",
       "      <td>Low_spent_Large_value_payments</td>\n",
       "      <td>284.62916249607184</td>\n",
       "      <td>Good</td>\n",
       "    </tr>\n",
       "    <tr>\n",
       "      <th>2</th>\n",
       "      <td>March</td>\n",
       "      <td>-500</td>\n",
       "      <td>Scientist</td>\n",
       "      <td>19114.12</td>\n",
       "      <td>NaN</td>\n",
       "      <td>3</td>\n",
       "      <td>4</td>\n",
       "      <td>3</td>\n",
       "      <td>4</td>\n",
       "      <td>3</td>\n",
       "      <td>...</td>\n",
       "      <td>4.0</td>\n",
       "      <td>Good</td>\n",
       "      <td>809.98</td>\n",
       "      <td>28.609352</td>\n",
       "      <td>No</td>\n",
       "      <td>49.574949</td>\n",
       "      <td>81.699521264648</td>\n",
       "      <td>Low_spent_Medium_value_payments</td>\n",
       "      <td>331.2098628537912</td>\n",
       "      <td>Good</td>\n",
       "    </tr>\n",
       "    <tr>\n",
       "      <th>3</th>\n",
       "      <td>April</td>\n",
       "      <td>23</td>\n",
       "      <td>Scientist</td>\n",
       "      <td>19114.12</td>\n",
       "      <td>NaN</td>\n",
       "      <td>3</td>\n",
       "      <td>4</td>\n",
       "      <td>3</td>\n",
       "      <td>4</td>\n",
       "      <td>5</td>\n",
       "      <td>...</td>\n",
       "      <td>4.0</td>\n",
       "      <td>Good</td>\n",
       "      <td>809.98</td>\n",
       "      <td>31.377862</td>\n",
       "      <td>No</td>\n",
       "      <td>49.574949</td>\n",
       "      <td>199.4580743910713</td>\n",
       "      <td>Low_spent_Small_value_payments</td>\n",
       "      <td>223.45130972736786</td>\n",
       "      <td>Good</td>\n",
       "    </tr>\n",
       "    <tr>\n",
       "      <th>4</th>\n",
       "      <td>May</td>\n",
       "      <td>23</td>\n",
       "      <td>Scientist</td>\n",
       "      <td>19114.12</td>\n",
       "      <td>1824.843333</td>\n",
       "      <td>3</td>\n",
       "      <td>4</td>\n",
       "      <td>3</td>\n",
       "      <td>4</td>\n",
       "      <td>6</td>\n",
       "      <td>...</td>\n",
       "      <td>4.0</td>\n",
       "      <td>Good</td>\n",
       "      <td>809.98</td>\n",
       "      <td>24.797347</td>\n",
       "      <td>No</td>\n",
       "      <td>49.574949</td>\n",
       "      <td>41.420153086217326</td>\n",
       "      <td>High_spent_Medium_value_payments</td>\n",
       "      <td>341.48923103222177</td>\n",
       "      <td>Good</td>\n",
       "    </tr>\n",
       "  </tbody>\n",
       "</table>\n",
       "<p>5 rows × 22 columns</p>\n",
       "</div>"
      ],
      "text/plain": [
       "      Month   Age Occupation Annual_Income  Monthly_Inhand_Salary  \\\n",
       "0   January    23  Scientist      19114.12            1824.843333   \n",
       "1  February    23  Scientist      19114.12                    NaN   \n",
       "2     March  -500  Scientist      19114.12                    NaN   \n",
       "3     April    23  Scientist      19114.12                    NaN   \n",
       "4       May    23  Scientist      19114.12            1824.843333   \n",
       "\n",
       "   Num_Bank_Accounts  Num_Credit_Card  Interest_Rate Num_of_Loan  \\\n",
       "0                  3                4              3           4   \n",
       "1                  3                4              3           4   \n",
       "2                  3                4              3           4   \n",
       "3                  3                4              3           4   \n",
       "4                  3                4              3           4   \n",
       "\n",
       "   Delay_from_due_date  ... Num_Credit_Inquiries Credit_Mix  Outstanding_Debt  \\\n",
       "0                    3  ...                  4.0          _            809.98   \n",
       "1                   -1  ...                  4.0       Good            809.98   \n",
       "2                    3  ...                  4.0       Good            809.98   \n",
       "3                    5  ...                  4.0       Good            809.98   \n",
       "4                    6  ...                  4.0       Good            809.98   \n",
       "\n",
       "  Credit_Utilization_Ratio Payment_of_Min_Amount  Total_EMI_per_month  \\\n",
       "0                26.822620                    No            49.574949   \n",
       "1                31.944960                    No            49.574949   \n",
       "2                28.609352                    No            49.574949   \n",
       "3                31.377862                    No            49.574949   \n",
       "4                24.797347                    No            49.574949   \n",
       "\n",
       "  Amount_invested_monthly                 Payment_Behaviour  \\\n",
       "0       80.41529543900253   High_spent_Small_value_payments   \n",
       "1      118.28022162236736    Low_spent_Large_value_payments   \n",
       "2         81.699521264648   Low_spent_Medium_value_payments   \n",
       "3       199.4580743910713    Low_spent_Small_value_payments   \n",
       "4      41.420153086217326  High_spent_Medium_value_payments   \n",
       "\n",
       "      Monthly_Balance Credit_Score  \n",
       "0  312.49408867943663         Good  \n",
       "1  284.62916249607184         Good  \n",
       "2   331.2098628537912         Good  \n",
       "3  223.45130972736786         Good  \n",
       "4  341.48923103222177         Good  \n",
       "\n",
       "[5 rows x 22 columns]"
      ]
     },
     "execution_count": 2,
     "metadata": {},
     "output_type": "execute_result"
    }
   ],
   "source": [
    "df = pd.read_csv(r\"E:\\Projects Datas\\credit_score.csv\")\n",
    "df=df.drop(columns=[\"ID\", \"Customer_ID\", \"Name\", \"SSN\",\"Type_of_Loan\", \"Credit_History_Age\"])\n",
    "df.head()"
   ]
  },
  {
   "cell_type": "code",
   "execution_count": 3,
   "id": "96cb56c0",
   "metadata": {},
   "outputs": [
    {
     "data": {
      "text/plain": [
       "(100000, 22)"
      ]
     },
     "execution_count": 3,
     "metadata": {},
     "output_type": "execute_result"
    }
   ],
   "source": [
    "df.shape"
   ]
  },
  {
   "cell_type": "code",
   "execution_count": 4,
   "id": "666ca66e",
   "metadata": {},
   "outputs": [
    {
     "name": "stdout",
     "output_type": "stream",
     "text": [
      "<class 'pandas.core.frame.DataFrame'>\n",
      "RangeIndex: 100000 entries, 0 to 99999\n",
      "Data columns (total 22 columns):\n",
      " #   Column                    Non-Null Count   Dtype  \n",
      "---  ------                    --------------   -----  \n",
      " 0   Month                     100000 non-null  object \n",
      " 1   Age                       100000 non-null  object \n",
      " 2   Occupation                100000 non-null  object \n",
      " 3   Annual_Income             100000 non-null  object \n",
      " 4   Monthly_Inhand_Salary     84998 non-null   float64\n",
      " 5   Num_Bank_Accounts         100000 non-null  int64  \n",
      " 6   Num_Credit_Card           100000 non-null  int64  \n",
      " 7   Interest_Rate             100000 non-null  int64  \n",
      " 8   Num_of_Loan               100000 non-null  object \n",
      " 9   Delay_from_due_date       100000 non-null  int64  \n",
      " 10  Num_of_Delayed_Payment    92998 non-null   object \n",
      " 11  Changed_Credit_Limit      100000 non-null  object \n",
      " 12  Num_Credit_Inquiries      98035 non-null   float64\n",
      " 13  Credit_Mix                100000 non-null  object \n",
      " 14  Outstanding_Debt          100000 non-null  object \n",
      " 15  Credit_Utilization_Ratio  100000 non-null  float64\n",
      " 16  Payment_of_Min_Amount     100000 non-null  object \n",
      " 17  Total_EMI_per_month       100000 non-null  float64\n",
      " 18  Amount_invested_monthly   95521 non-null   object \n",
      " 19  Payment_Behaviour         100000 non-null  object \n",
      " 20  Monthly_Balance           98800 non-null   object \n",
      " 21  Credit_Score              100000 non-null  object \n",
      "dtypes: float64(4), int64(4), object(14)\n",
      "memory usage: 16.8+ MB\n"
     ]
    }
   ],
   "source": [
    "df.info()"
   ]
  },
  {
   "cell_type": "code",
   "execution_count": 5,
   "id": "90541901",
   "metadata": {},
   "outputs": [
    {
     "data": {
      "text/html": [
       "<div>\n",
       "<style scoped>\n",
       "    .dataframe tbody tr th:only-of-type {\n",
       "        vertical-align: middle;\n",
       "    }\n",
       "\n",
       "    .dataframe tbody tr th {\n",
       "        vertical-align: top;\n",
       "    }\n",
       "\n",
       "    .dataframe thead th {\n",
       "        text-align: right;\n",
       "    }\n",
       "</style>\n",
       "<table border=\"1\" class=\"dataframe\">\n",
       "  <thead>\n",
       "    <tr style=\"text-align: right;\">\n",
       "      <th></th>\n",
       "      <th>Monthly_Inhand_Salary</th>\n",
       "      <th>Num_Bank_Accounts</th>\n",
       "      <th>Num_Credit_Card</th>\n",
       "      <th>Interest_Rate</th>\n",
       "      <th>Delay_from_due_date</th>\n",
       "      <th>Num_Credit_Inquiries</th>\n",
       "      <th>Credit_Utilization_Ratio</th>\n",
       "      <th>Total_EMI_per_month</th>\n",
       "    </tr>\n",
       "  </thead>\n",
       "  <tbody>\n",
       "    <tr>\n",
       "      <th>count</th>\n",
       "      <td>84998.000000</td>\n",
       "      <td>100000.000000</td>\n",
       "      <td>100000.00000</td>\n",
       "      <td>100000.000000</td>\n",
       "      <td>100000.000000</td>\n",
       "      <td>98035.000000</td>\n",
       "      <td>100000.000000</td>\n",
       "      <td>100000.000000</td>\n",
       "    </tr>\n",
       "    <tr>\n",
       "      <th>mean</th>\n",
       "      <td>4194.170850</td>\n",
       "      <td>17.091280</td>\n",
       "      <td>22.47443</td>\n",
       "      <td>72.466040</td>\n",
       "      <td>21.068780</td>\n",
       "      <td>27.754251</td>\n",
       "      <td>32.285173</td>\n",
       "      <td>1403.118217</td>\n",
       "    </tr>\n",
       "    <tr>\n",
       "      <th>std</th>\n",
       "      <td>3183.686167</td>\n",
       "      <td>117.404834</td>\n",
       "      <td>129.05741</td>\n",
       "      <td>466.422621</td>\n",
       "      <td>14.860104</td>\n",
       "      <td>193.177339</td>\n",
       "      <td>5.116875</td>\n",
       "      <td>8306.041270</td>\n",
       "    </tr>\n",
       "    <tr>\n",
       "      <th>min</th>\n",
       "      <td>303.645417</td>\n",
       "      <td>-1.000000</td>\n",
       "      <td>0.00000</td>\n",
       "      <td>1.000000</td>\n",
       "      <td>-5.000000</td>\n",
       "      <td>0.000000</td>\n",
       "      <td>20.000000</td>\n",
       "      <td>0.000000</td>\n",
       "    </tr>\n",
       "    <tr>\n",
       "      <th>25%</th>\n",
       "      <td>1625.568229</td>\n",
       "      <td>3.000000</td>\n",
       "      <td>4.00000</td>\n",
       "      <td>8.000000</td>\n",
       "      <td>10.000000</td>\n",
       "      <td>3.000000</td>\n",
       "      <td>28.052567</td>\n",
       "      <td>30.306660</td>\n",
       "    </tr>\n",
       "    <tr>\n",
       "      <th>50%</th>\n",
       "      <td>3093.745000</td>\n",
       "      <td>6.000000</td>\n",
       "      <td>5.00000</td>\n",
       "      <td>13.000000</td>\n",
       "      <td>18.000000</td>\n",
       "      <td>6.000000</td>\n",
       "      <td>32.305784</td>\n",
       "      <td>69.249473</td>\n",
       "    </tr>\n",
       "    <tr>\n",
       "      <th>75%</th>\n",
       "      <td>5957.448333</td>\n",
       "      <td>7.000000</td>\n",
       "      <td>7.00000</td>\n",
       "      <td>20.000000</td>\n",
       "      <td>28.000000</td>\n",
       "      <td>9.000000</td>\n",
       "      <td>36.496663</td>\n",
       "      <td>161.224249</td>\n",
       "    </tr>\n",
       "    <tr>\n",
       "      <th>max</th>\n",
       "      <td>15204.633333</td>\n",
       "      <td>1798.000000</td>\n",
       "      <td>1499.00000</td>\n",
       "      <td>5797.000000</td>\n",
       "      <td>67.000000</td>\n",
       "      <td>2597.000000</td>\n",
       "      <td>50.000000</td>\n",
       "      <td>82331.000000</td>\n",
       "    </tr>\n",
       "  </tbody>\n",
       "</table>\n",
       "</div>"
      ],
      "text/plain": [
       "       Monthly_Inhand_Salary  Num_Bank_Accounts  Num_Credit_Card  \\\n",
       "count           84998.000000      100000.000000     100000.00000   \n",
       "mean             4194.170850          17.091280         22.47443   \n",
       "std              3183.686167         117.404834        129.05741   \n",
       "min               303.645417          -1.000000          0.00000   \n",
       "25%              1625.568229           3.000000          4.00000   \n",
       "50%              3093.745000           6.000000          5.00000   \n",
       "75%              5957.448333           7.000000          7.00000   \n",
       "max             15204.633333        1798.000000       1499.00000   \n",
       "\n",
       "       Interest_Rate  Delay_from_due_date  Num_Credit_Inquiries  \\\n",
       "count  100000.000000        100000.000000          98035.000000   \n",
       "mean       72.466040            21.068780             27.754251   \n",
       "std       466.422621            14.860104            193.177339   \n",
       "min         1.000000            -5.000000              0.000000   \n",
       "25%         8.000000            10.000000              3.000000   \n",
       "50%        13.000000            18.000000              6.000000   \n",
       "75%        20.000000            28.000000              9.000000   \n",
       "max      5797.000000            67.000000           2597.000000   \n",
       "\n",
       "       Credit_Utilization_Ratio  Total_EMI_per_month  \n",
       "count             100000.000000        100000.000000  \n",
       "mean                  32.285173          1403.118217  \n",
       "std                    5.116875          8306.041270  \n",
       "min                   20.000000             0.000000  \n",
       "25%                   28.052567            30.306660  \n",
       "50%                   32.305784            69.249473  \n",
       "75%                   36.496663           161.224249  \n",
       "max                   50.000000         82331.000000  "
      ]
     },
     "execution_count": 5,
     "metadata": {},
     "output_type": "execute_result"
    }
   ],
   "source": [
    "df.describe()"
   ]
  },
  {
   "cell_type": "code",
   "execution_count": 6,
   "id": "ef480817",
   "metadata": {},
   "outputs": [
    {
     "data": {
      "text/plain": [
       "Month                        0.000\n",
       "Age                          0.000\n",
       "Occupation                   0.000\n",
       "Annual_Income                0.000\n",
       "Monthly_Inhand_Salary       15.002\n",
       "Num_Bank_Accounts            0.000\n",
       "Num_Credit_Card              0.000\n",
       "Interest_Rate                0.000\n",
       "Num_of_Loan                  0.000\n",
       "Delay_from_due_date          0.000\n",
       "Num_of_Delayed_Payment       7.002\n",
       "Changed_Credit_Limit         0.000\n",
       "Num_Credit_Inquiries         1.965\n",
       "Credit_Mix                   0.000\n",
       "Outstanding_Debt             0.000\n",
       "Credit_Utilization_Ratio     0.000\n",
       "Payment_of_Min_Amount        0.000\n",
       "Total_EMI_per_month          0.000\n",
       "Amount_invested_monthly      4.479\n",
       "Payment_Behaviour            0.000\n",
       "Monthly_Balance              1.200\n",
       "Credit_Score                 0.000\n",
       "dtype: float64"
      ]
     },
     "execution_count": 6,
     "metadata": {},
     "output_type": "execute_result"
    }
   ],
   "source": [
    "df.isnull().mean()*100"
   ]
  },
  {
   "cell_type": "code",
   "execution_count": 7,
   "id": "26fc1a9e",
   "metadata": {},
   "outputs": [
    {
     "data": {
      "text/plain": [
       "array(['23', '-500', '28_', ..., '4808_', '2263', '1342'], dtype=object)"
      ]
     },
     "execution_count": 7,
     "metadata": {},
     "output_type": "execute_result"
    }
   ],
   "source": [
    "df.Age.unique()"
   ]
  },
  {
   "cell_type": "code",
   "execution_count": 8,
   "id": "b8724817",
   "metadata": {},
   "outputs": [],
   "source": [
    "df[\"Age\"]=df[\"Age\"].str.replace(\"_\",\"\")\n",
    "df[\"Age\"]=df[\"Age\"].astype (int)"
   ]
  },
  {
   "cell_type": "code",
   "execution_count": 9,
   "id": "18c8dabc",
   "metadata": {},
   "outputs": [],
   "source": [
    "df[\"Occupation\"]=df[\"Occupation\"].replace(\"_____________\", np.nan)"
   ]
  },
  {
   "cell_type": "code",
   "execution_count": 10,
   "id": "42270183",
   "metadata": {},
   "outputs": [],
   "source": [
    "df[\"Annual_Income\"] = df[\"Annual_Income\"].str.replace(\"_\", \"\")\n",
    "df[\"Annual_Income\"]=df[\"Annual_Income\"].astype(float)"
   ]
  },
  {
   "cell_type": "code",
   "execution_count": 11,
   "id": "6b467576",
   "metadata": {},
   "outputs": [],
   "source": [
    "df[\"Num_of_Loan\"]=df[\"Num_of_Loan\"].str.replace(\"_\",\"\")\n",
    "df[\"Num_of_Loan\"]=df[\"Num_of_Loan\"].astype(int)"
   ]
  },
  {
   "cell_type": "code",
   "execution_count": 12,
   "id": "0eaa4863",
   "metadata": {},
   "outputs": [],
   "source": [
    "df[\"Num_of_Delayed_Payment\"]=df[\"Num_of_Delayed_Payment\"].str.replace(\"_\",\"\")\n",
    "df[\"Num_of_Delayed_Payment\"]=df[\"Num_of_Delayed_Payment\"].astype(float)"
   ]
  },
  {
   "cell_type": "code",
   "execution_count": 13,
   "id": "d1bcc1d9",
   "metadata": {},
   "outputs": [],
   "source": [
    "df[\"Credit_Score\"]=df[\"Credit_Score\"].replace([\"Poor\", \"Standard\", \"Good\"], [0,1,2])"
   ]
  },
  {
   "cell_type": "code",
   "execution_count": 14,
   "id": "1be11695",
   "metadata": {},
   "outputs": [],
   "source": [
    "df[\"Monthly_Balance\"]=df[\"Monthly_Balance\"].str.replace(\"_\",\"\")\n",
    "df[\"Monthly_Balance\"]=df[\"Monthly_Balance\"].astype(float)"
   ]
  },
  {
   "cell_type": "code",
   "execution_count": 15,
   "id": "da9e7d80",
   "metadata": {},
   "outputs": [],
   "source": [
    "df[\"Payment_Behaviour\"]=df[\"Payment_Behaviour\"].replace(\"! @9#%8\", np.nan)"
   ]
  },
  {
   "cell_type": "code",
   "execution_count": 16,
   "id": "9f39f308",
   "metadata": {},
   "outputs": [],
   "source": [
    "df[\"Amount_invested_monthly\"]=df[\"Amount_invested_monthly\"].str.replace(\"_\",\"\")\n",
    "df[\"Amount invested_monthly\"]=df[\"Amount_invested_monthly\"].astype(float)"
   ]
  },
  {
   "cell_type": "code",
   "execution_count": 17,
   "id": "2b55eb63",
   "metadata": {},
   "outputs": [],
   "source": [
    "df[\"Payment_of_Min_Amount\"]=df[ \"Payment_of_Min_Amount\"].replace(\"NM\", \"No\")\n",
    "df[\"Payment_of_Min_Amount\"]=df[ \"Payment_of_Min_Amount\"].replace([\"Yes\", \"No\"], [1,0])"
   ]
  },
  {
   "cell_type": "code",
   "execution_count": 18,
   "id": "a59f5020",
   "metadata": {},
   "outputs": [],
   "source": [
    "df[\"Outstanding_Debt\"]= df[\"Outstanding_Debt\"].str.replace(\"_\",\"\")\n",
    "df[\"Outstanding_Debt\"]=df[\"Outstanding_Debt\"].astype(float)"
   ]
  },
  {
   "cell_type": "code",
   "execution_count": 19,
   "id": "39ac7bef",
   "metadata": {},
   "outputs": [],
   "source": [
    "df[\"Credit_Mix\"]=df[\"Credit_Mix\"].replace(\"_\", np.nan)\n",
    "df[\"Credit_Mix\"]=df[\"Credit_Mix\"].replace([\"Standard\", 'Good', \"Bad\"], [1,2,0])"
   ]
  },
  {
   "cell_type": "code",
   "execution_count": 20,
   "id": "2d0648f9",
   "metadata": {},
   "outputs": [],
   "source": [
    "df['Changed_Credit_Limit']= df['Changed_Credit_Limit'].replace(\"_\", np.nan)\n",
    "df[\"Changed Credit_Limit\"]=df[\"Changed_Credit_Limit\"].astype(float)"
   ]
  },
  {
   "cell_type": "code",
   "execution_count": 21,
   "id": "2ad225ea",
   "metadata": {},
   "outputs": [
    {
     "data": {
      "text/html": [
       "<div>\n",
       "<style scoped>\n",
       "    .dataframe tbody tr th:only-of-type {\n",
       "        vertical-align: middle;\n",
       "    }\n",
       "\n",
       "    .dataframe tbody tr th {\n",
       "        vertical-align: top;\n",
       "    }\n",
       "\n",
       "    .dataframe thead th {\n",
       "        text-align: right;\n",
       "    }\n",
       "</style>\n",
       "<table border=\"1\" class=\"dataframe\">\n",
       "  <thead>\n",
       "    <tr style=\"text-align: right;\">\n",
       "      <th></th>\n",
       "      <th>Month</th>\n",
       "      <th>Age</th>\n",
       "      <th>Occupation</th>\n",
       "      <th>Annual_Income</th>\n",
       "      <th>Monthly_Inhand_Salary</th>\n",
       "      <th>Num_Bank_Accounts</th>\n",
       "      <th>Num_Credit_Card</th>\n",
       "      <th>Interest_Rate</th>\n",
       "      <th>Num_of_Loan</th>\n",
       "      <th>Delay_from_due_date</th>\n",
       "      <th>...</th>\n",
       "      <th>Outstanding_Debt</th>\n",
       "      <th>Credit_Utilization_Ratio</th>\n",
       "      <th>Payment_of_Min_Amount</th>\n",
       "      <th>Total_EMI_per_month</th>\n",
       "      <th>Amount_invested_monthly</th>\n",
       "      <th>Payment_Behaviour</th>\n",
       "      <th>Monthly_Balance</th>\n",
       "      <th>Credit_Score</th>\n",
       "      <th>Amount invested_monthly</th>\n",
       "      <th>Changed Credit_Limit</th>\n",
       "    </tr>\n",
       "  </thead>\n",
       "  <tbody>\n",
       "    <tr>\n",
       "      <th>0</th>\n",
       "      <td>January</td>\n",
       "      <td>23</td>\n",
       "      <td>Scientist</td>\n",
       "      <td>19114.12</td>\n",
       "      <td>1824.843333</td>\n",
       "      <td>3</td>\n",
       "      <td>4</td>\n",
       "      <td>3</td>\n",
       "      <td>4</td>\n",
       "      <td>3</td>\n",
       "      <td>...</td>\n",
       "      <td>809.98</td>\n",
       "      <td>26.822620</td>\n",
       "      <td>0</td>\n",
       "      <td>49.574949</td>\n",
       "      <td>80.41529543900253</td>\n",
       "      <td>High_spent_Small_value_payments</td>\n",
       "      <td>312.494089</td>\n",
       "      <td>2</td>\n",
       "      <td>80.415295</td>\n",
       "      <td>11.27</td>\n",
       "    </tr>\n",
       "    <tr>\n",
       "      <th>1</th>\n",
       "      <td>February</td>\n",
       "      <td>23</td>\n",
       "      <td>Scientist</td>\n",
       "      <td>19114.12</td>\n",
       "      <td>NaN</td>\n",
       "      <td>3</td>\n",
       "      <td>4</td>\n",
       "      <td>3</td>\n",
       "      <td>4</td>\n",
       "      <td>-1</td>\n",
       "      <td>...</td>\n",
       "      <td>809.98</td>\n",
       "      <td>31.944960</td>\n",
       "      <td>0</td>\n",
       "      <td>49.574949</td>\n",
       "      <td>118.28022162236736</td>\n",
       "      <td>Low_spent_Large_value_payments</td>\n",
       "      <td>284.629162</td>\n",
       "      <td>2</td>\n",
       "      <td>118.280222</td>\n",
       "      <td>11.27</td>\n",
       "    </tr>\n",
       "    <tr>\n",
       "      <th>2</th>\n",
       "      <td>March</td>\n",
       "      <td>-500</td>\n",
       "      <td>Scientist</td>\n",
       "      <td>19114.12</td>\n",
       "      <td>NaN</td>\n",
       "      <td>3</td>\n",
       "      <td>4</td>\n",
       "      <td>3</td>\n",
       "      <td>4</td>\n",
       "      <td>3</td>\n",
       "      <td>...</td>\n",
       "      <td>809.98</td>\n",
       "      <td>28.609352</td>\n",
       "      <td>0</td>\n",
       "      <td>49.574949</td>\n",
       "      <td>81.699521264648</td>\n",
       "      <td>Low_spent_Medium_value_payments</td>\n",
       "      <td>331.209863</td>\n",
       "      <td>2</td>\n",
       "      <td>81.699521</td>\n",
       "      <td>NaN</td>\n",
       "    </tr>\n",
       "    <tr>\n",
       "      <th>3</th>\n",
       "      <td>April</td>\n",
       "      <td>23</td>\n",
       "      <td>Scientist</td>\n",
       "      <td>19114.12</td>\n",
       "      <td>NaN</td>\n",
       "      <td>3</td>\n",
       "      <td>4</td>\n",
       "      <td>3</td>\n",
       "      <td>4</td>\n",
       "      <td>5</td>\n",
       "      <td>...</td>\n",
       "      <td>809.98</td>\n",
       "      <td>31.377862</td>\n",
       "      <td>0</td>\n",
       "      <td>49.574949</td>\n",
       "      <td>199.4580743910713</td>\n",
       "      <td>Low_spent_Small_value_payments</td>\n",
       "      <td>223.451310</td>\n",
       "      <td>2</td>\n",
       "      <td>199.458074</td>\n",
       "      <td>6.27</td>\n",
       "    </tr>\n",
       "    <tr>\n",
       "      <th>4</th>\n",
       "      <td>May</td>\n",
       "      <td>23</td>\n",
       "      <td>Scientist</td>\n",
       "      <td>19114.12</td>\n",
       "      <td>1824.843333</td>\n",
       "      <td>3</td>\n",
       "      <td>4</td>\n",
       "      <td>3</td>\n",
       "      <td>4</td>\n",
       "      <td>6</td>\n",
       "      <td>...</td>\n",
       "      <td>809.98</td>\n",
       "      <td>24.797347</td>\n",
       "      <td>0</td>\n",
       "      <td>49.574949</td>\n",
       "      <td>41.420153086217326</td>\n",
       "      <td>High_spent_Medium_value_payments</td>\n",
       "      <td>341.489231</td>\n",
       "      <td>2</td>\n",
       "      <td>41.420153</td>\n",
       "      <td>11.27</td>\n",
       "    </tr>\n",
       "  </tbody>\n",
       "</table>\n",
       "<p>5 rows × 24 columns</p>\n",
       "</div>"
      ],
      "text/plain": [
       "      Month  Age Occupation  Annual_Income  Monthly_Inhand_Salary  \\\n",
       "0   January   23  Scientist       19114.12            1824.843333   \n",
       "1  February   23  Scientist       19114.12                    NaN   \n",
       "2     March -500  Scientist       19114.12                    NaN   \n",
       "3     April   23  Scientist       19114.12                    NaN   \n",
       "4       May   23  Scientist       19114.12            1824.843333   \n",
       "\n",
       "   Num_Bank_Accounts  Num_Credit_Card  Interest_Rate  Num_of_Loan  \\\n",
       "0                  3                4              3            4   \n",
       "1                  3                4              3            4   \n",
       "2                  3                4              3            4   \n",
       "3                  3                4              3            4   \n",
       "4                  3                4              3            4   \n",
       "\n",
       "   Delay_from_due_date  ...  Outstanding_Debt Credit_Utilization_Ratio  \\\n",
       "0                    3  ...            809.98                26.822620   \n",
       "1                   -1  ...            809.98                31.944960   \n",
       "2                    3  ...            809.98                28.609352   \n",
       "3                    5  ...            809.98                31.377862   \n",
       "4                    6  ...            809.98                24.797347   \n",
       "\n",
       "   Payment_of_Min_Amount  Total_EMI_per_month  Amount_invested_monthly  \\\n",
       "0                      0            49.574949        80.41529543900253   \n",
       "1                      0            49.574949       118.28022162236736   \n",
       "2                      0            49.574949          81.699521264648   \n",
       "3                      0            49.574949        199.4580743910713   \n",
       "4                      0            49.574949       41.420153086217326   \n",
       "\n",
       "                  Payment_Behaviour  Monthly_Balance  Credit_Score  \\\n",
       "0   High_spent_Small_value_payments       312.494089             2   \n",
       "1    Low_spent_Large_value_payments       284.629162             2   \n",
       "2   Low_spent_Medium_value_payments       331.209863             2   \n",
       "3    Low_spent_Small_value_payments       223.451310             2   \n",
       "4  High_spent_Medium_value_payments       341.489231             2   \n",
       "\n",
       "  Amount invested_monthly Changed Credit_Limit  \n",
       "0               80.415295                11.27  \n",
       "1              118.280222                11.27  \n",
       "2               81.699521                  NaN  \n",
       "3              199.458074                 6.27  \n",
       "4               41.420153                11.27  \n",
       "\n",
       "[5 rows x 24 columns]"
      ]
     },
     "execution_count": 21,
     "metadata": {},
     "output_type": "execute_result"
    }
   ],
   "source": [
    "df.head()"
   ]
  },
  {
   "cell_type": "code",
   "execution_count": 22,
   "id": "fbd00402",
   "metadata": {},
   "outputs": [
    {
     "name": "stdout",
     "output_type": "stream",
     "text": [
      "<class 'pandas.core.frame.DataFrame'>\n",
      "RangeIndex: 100000 entries, 0 to 99999\n",
      "Data columns (total 24 columns):\n",
      " #   Column                    Non-Null Count   Dtype  \n",
      "---  ------                    --------------   -----  \n",
      " 0   Month                     100000 non-null  object \n",
      " 1   Age                       100000 non-null  int32  \n",
      " 2   Occupation                100000 non-null  object \n",
      " 3   Annual_Income             100000 non-null  float64\n",
      " 4   Monthly_Inhand_Salary     84998 non-null   float64\n",
      " 5   Num_Bank_Accounts         100000 non-null  int64  \n",
      " 6   Num_Credit_Card           100000 non-null  int64  \n",
      " 7   Interest_Rate             100000 non-null  int64  \n",
      " 8   Num_of_Loan               100000 non-null  int32  \n",
      " 9   Delay_from_due_date       100000 non-null  int64  \n",
      " 10  Num_of_Delayed_Payment    92998 non-null   float64\n",
      " 11  Changed_Credit_Limit      97909 non-null   object \n",
      " 12  Num_Credit_Inquiries      98035 non-null   float64\n",
      " 13  Credit_Mix                79805 non-null   float64\n",
      " 14  Outstanding_Debt          100000 non-null  float64\n",
      " 15  Credit_Utilization_Ratio  100000 non-null  float64\n",
      " 16  Payment_of_Min_Amount     100000 non-null  int64  \n",
      " 17  Total_EMI_per_month       100000 non-null  float64\n",
      " 18  Amount_invested_monthly   95521 non-null   object \n",
      " 19  Payment_Behaviour         100000 non-null  object \n",
      " 20  Monthly_Balance           97132 non-null   float64\n",
      " 21  Credit_Score              100000 non-null  int64  \n",
      " 22  Amount invested_monthly   95521 non-null   float64\n",
      " 23  Changed Credit_Limit      97909 non-null   float64\n",
      "dtypes: float64(11), int32(2), int64(6), object(5)\n",
      "memory usage: 17.5+ MB\n"
     ]
    }
   ],
   "source": [
    "df.info()"
   ]
  },
  {
   "cell_type": "code",
   "execution_count": 23,
   "id": "243eca3b",
   "metadata": {},
   "outputs": [
    {
     "data": {
      "text/plain": [
       "Month                           0\n",
       "Age                             0\n",
       "Occupation                      0\n",
       "Annual_Income                   0\n",
       "Monthly_Inhand_Salary       15002\n",
       "Num_Bank_Accounts               0\n",
       "Num_Credit_Card                 0\n",
       "Interest_Rate                   0\n",
       "Num_of_Loan                     0\n",
       "Delay_from_due_date             0\n",
       "Num_of_Delayed_Payment       7002\n",
       "Changed_Credit_Limit         2091\n",
       "Num_Credit_Inquiries         1965\n",
       "Credit_Mix                  20195\n",
       "Outstanding_Debt                0\n",
       "Credit_Utilization_Ratio        0\n",
       "Payment_of_Min_Amount           0\n",
       "Total_EMI_per_month             0\n",
       "Amount_invested_monthly      4479\n",
       "Payment_Behaviour               0\n",
       "Monthly_Balance              2868\n",
       "Credit_Score                    0\n",
       "Amount invested_monthly      4479\n",
       "Changed Credit_Limit         2091\n",
       "dtype: int64"
      ]
     },
     "execution_count": 23,
     "metadata": {},
     "output_type": "execute_result"
    }
   ],
   "source": [
    "df.isnull().sum()"
   ]
  },
  {
   "cell_type": "code",
   "execution_count": 24,
   "id": "12a3bcda",
   "metadata": {},
   "outputs": [],
   "source": [
    "df = df.fillna(method='ffill')\n",
    "df = df.fillna(method='bfill')"
   ]
  },
  {
   "cell_type": "code",
   "execution_count": 25,
   "id": "7a000518",
   "metadata": {},
   "outputs": [
    {
     "data": {
      "text/plain": [
       "Month                       0\n",
       "Age                         0\n",
       "Occupation                  0\n",
       "Annual_Income               0\n",
       "Monthly_Inhand_Salary       0\n",
       "Num_Bank_Accounts           0\n",
       "Num_Credit_Card             0\n",
       "Interest_Rate               0\n",
       "Num_of_Loan                 0\n",
       "Delay_from_due_date         0\n",
       "Num_of_Delayed_Payment      0\n",
       "Changed_Credit_Limit        0\n",
       "Num_Credit_Inquiries        0\n",
       "Credit_Mix                  0\n",
       "Outstanding_Debt            0\n",
       "Credit_Utilization_Ratio    0\n",
       "Payment_of_Min_Amount       0\n",
       "Total_EMI_per_month         0\n",
       "Amount_invested_monthly     0\n",
       "Payment_Behaviour           0\n",
       "Monthly_Balance             0\n",
       "Credit_Score                0\n",
       "Amount invested_monthly     0\n",
       "Changed Credit_Limit        0\n",
       "dtype: int64"
      ]
     },
     "execution_count": 25,
     "metadata": {},
     "output_type": "execute_result"
    }
   ],
   "source": [
    "df.isnull().sum()"
   ]
  },
  {
   "cell_type": "code",
   "execution_count": 26,
   "id": "90a60ac9",
   "metadata": {},
   "outputs": [],
   "source": [
    "import matplotlib.pyplot as plt\n",
    "import seaborn as sns"
   ]
  },
  {
   "cell_type": "code",
   "execution_count": 27,
   "id": "86d2abc1",
   "metadata": {},
   "outputs": [
    {
     "data": {
      "image/png": "[encoded data removed]",
      "text/plain": [
       "<Figure size 640x480 with 1 Axes>"
      ]
     },
     "metadata": {},
     "output_type": "display_data"
    }
   ],
   "source": [
    "sns.boxplot(data = df.Age)\n",
    "plt.xlabel(\"Age\")\n",
    "plt.ylabel('count')\n",
    "plt.show()"
   ]
  },
  {
   "cell_type": "markdown",
   "id": "7983009d",
   "metadata": {},
   "source": [
    "###### removing outliers  from age since all  other columns  values are  relevant"
   ]
  },
  {
   "cell_type": "code",
   "execution_count": 28,
   "id": "5e77e9da",
   "metadata": {},
   "outputs": [
    {
     "data": {
      "image/png": "[encoded data removed]",
      "text/plain": [
       "<Figure size 640x480 with 1 Axes>"
      ]
     },
     "metadata": {},
     "output_type": "display_data"
    }
   ],
   "source": [
    "col_names=[\"Age\"]\n",
    "Q1= df.Age.quantile (0.25)\n",
    "Q3= df.Age.quantile (0.75)\n",
    "IQR = Q3 - Q1\n",
    "data=df[(df.Age >= Q1 - 1.5*IQR) & (df.Age <= Q3 + 1.5*IQR)]\n",
    "sns.boxplot(data = data.Age)\n",
    "plt.xlabel(\"Age\")\n",
    "plt.ylabel('count')\n",
    "plt.show()"
   ]
  },
  {
   "cell_type": "code",
   "execution_count": 29,
   "id": "0972cc69",
   "metadata": {},
   "outputs": [],
   "source": [
    "from sklearn.preprocessing import LabelEncoder\n",
    "le= LabelEncoder()"
   ]
  },
  {
   "cell_type": "code",
   "execution_count": 30,
   "id": "30b3e6ba",
   "metadata": {},
   "outputs": [],
   "source": [
    "df[\"Month\"]=le.fit_transform(df[\"Month\"])\n",
    "df[\"Occupation\"]=le.fit_transform(df[\"Occupation\"])\n",
    "df[\"Payment_Behaviour\"] = le.fit_transform(df[\"Payment_Behaviour\"])"
   ]
  },
  {
   "cell_type": "code",
   "execution_count": 31,
   "id": "03322d55",
   "metadata": {},
   "outputs": [
    {
     "name": "stdout",
     "output_type": "stream",
     "text": [
      "<class 'pandas.core.frame.DataFrame'>\n",
      "RangeIndex: 100000 entries, 0 to 99999\n",
      "Data columns (total 24 columns):\n",
      " #   Column                    Non-Null Count   Dtype  \n",
      "---  ------                    --------------   -----  \n",
      " 0   Month                     100000 non-null  int32  \n",
      " 1   Age                       100000 non-null  int32  \n",
      " 2   Occupation                100000 non-null  int32  \n",
      " 3   Annual_Income             100000 non-null  float64\n",
      " 4   Monthly_Inhand_Salary     100000 non-null  float64\n",
      " 5   Num_Bank_Accounts         100000 non-null  int64  \n",
      " 6   Num_Credit_Card           100000 non-null  int64  \n",
      " 7   Interest_Rate             100000 non-null  int64  \n",
      " 8   Num_of_Loan               100000 non-null  int32  \n",
      " 9   Delay_from_due_date       100000 non-null  int64  \n",
      " 10  Num_of_Delayed_Payment    100000 non-null  float64\n",
      " 11  Changed_Credit_Limit      100000 non-null  object \n",
      " 12  Num_Credit_Inquiries      100000 non-null  float64\n",
      " 13  Credit_Mix                100000 non-null  float64\n",
      " 14  Outstanding_Debt          100000 non-null  float64\n",
      " 15  Credit_Utilization_Ratio  100000 non-null  float64\n",
      " 16  Payment_of_Min_Amount     100000 non-null  int64  \n",
      " 17  Total_EMI_per_month       100000 non-null  float64\n",
      " 18  Amount_invested_monthly   100000 non-null  object \n",
      " 19  Payment_Behaviour         100000 non-null  int32  \n",
      " 20  Monthly_Balance           100000 non-null  float64\n",
      " 21  Credit_Score              100000 non-null  int64  \n",
      " 22  Amount invested_monthly   100000 non-null  float64\n",
      " 23  Changed Credit_Limit      100000 non-null  float64\n",
      "dtypes: float64(11), int32(5), int64(6), object(2)\n",
      "memory usage: 16.4+ MB\n"
     ]
    }
   ],
   "source": [
    "df.info()"
   ]
  },
  {
   "cell_type": "code",
   "execution_count": 32,
   "id": "500cefd1",
   "metadata": {},
   "outputs": [
    {
     "data": {
      "text/html": [
       "<div>\n",
       "<style scoped>\n",
       "    .dataframe tbody tr th:only-of-type {\n",
       "        vertical-align: middle;\n",
       "    }\n",
       "\n",
       "    .dataframe tbody tr th {\n",
       "        vertical-align: top;\n",
       "    }\n",
       "\n",
       "    .dataframe thead th {\n",
       "        text-align: right;\n",
       "    }\n",
       "</style>\n",
       "<table border=\"1\" class=\"dataframe\">\n",
       "  <thead>\n",
       "    <tr style=\"text-align: right;\">\n",
       "      <th></th>\n",
       "      <th>Month</th>\n",
       "      <th>Age</th>\n",
       "      <th>Occupation</th>\n",
       "      <th>Annual_Income</th>\n",
       "      <th>Monthly_Inhand_Salary</th>\n",
       "      <th>Num_Bank_Accounts</th>\n",
       "      <th>Num_Credit_Card</th>\n",
       "      <th>Interest_Rate</th>\n",
       "      <th>Num_of_Loan</th>\n",
       "      <th>Delay_from_due_date</th>\n",
       "      <th>...</th>\n",
       "      <th>Outstanding_Debt</th>\n",
       "      <th>Credit_Utilization_Ratio</th>\n",
       "      <th>Payment_of_Min_Amount</th>\n",
       "      <th>Total_EMI_per_month</th>\n",
       "      <th>Amount_invested_monthly</th>\n",
       "      <th>Payment_Behaviour</th>\n",
       "      <th>Monthly_Balance</th>\n",
       "      <th>Credit_Score</th>\n",
       "      <th>Amount invested_monthly</th>\n",
       "      <th>Changed Credit_Limit</th>\n",
       "    </tr>\n",
       "  </thead>\n",
       "  <tbody>\n",
       "    <tr>\n",
       "      <th>0</th>\n",
       "      <td>3</td>\n",
       "      <td>23</td>\n",
       "      <td>12</td>\n",
       "      <td>19114.12</td>\n",
       "      <td>1824.843333</td>\n",
       "      <td>3</td>\n",
       "      <td>4</td>\n",
       "      <td>3</td>\n",
       "      <td>4</td>\n",
       "      <td>3</td>\n",
       "      <td>...</td>\n",
       "      <td>809.98</td>\n",
       "      <td>26.822620</td>\n",
       "      <td>0</td>\n",
       "      <td>49.574949</td>\n",
       "      <td>80.41529543900253</td>\n",
       "      <td>3</td>\n",
       "      <td>312.494089</td>\n",
       "      <td>2</td>\n",
       "      <td>80.415295</td>\n",
       "      <td>11.27</td>\n",
       "    </tr>\n",
       "    <tr>\n",
       "      <th>1</th>\n",
       "      <td>2</td>\n",
       "      <td>23</td>\n",
       "      <td>12</td>\n",
       "      <td>19114.12</td>\n",
       "      <td>1824.843333</td>\n",
       "      <td>3</td>\n",
       "      <td>4</td>\n",
       "      <td>3</td>\n",
       "      <td>4</td>\n",
       "      <td>-1</td>\n",
       "      <td>...</td>\n",
       "      <td>809.98</td>\n",
       "      <td>31.944960</td>\n",
       "      <td>0</td>\n",
       "      <td>49.574949</td>\n",
       "      <td>118.28022162236736</td>\n",
       "      <td>4</td>\n",
       "      <td>284.629162</td>\n",
       "      <td>2</td>\n",
       "      <td>118.280222</td>\n",
       "      <td>11.27</td>\n",
       "    </tr>\n",
       "    <tr>\n",
       "      <th>2</th>\n",
       "      <td>6</td>\n",
       "      <td>-500</td>\n",
       "      <td>12</td>\n",
       "      <td>19114.12</td>\n",
       "      <td>1824.843333</td>\n",
       "      <td>3</td>\n",
       "      <td>4</td>\n",
       "      <td>3</td>\n",
       "      <td>4</td>\n",
       "      <td>3</td>\n",
       "      <td>...</td>\n",
       "      <td>809.98</td>\n",
       "      <td>28.609352</td>\n",
       "      <td>0</td>\n",
       "      <td>49.574949</td>\n",
       "      <td>81.699521264648</td>\n",
       "      <td>5</td>\n",
       "      <td>331.209863</td>\n",
       "      <td>2</td>\n",
       "      <td>81.699521</td>\n",
       "      <td>11.27</td>\n",
       "    </tr>\n",
       "    <tr>\n",
       "      <th>3</th>\n",
       "      <td>0</td>\n",
       "      <td>23</td>\n",
       "      <td>12</td>\n",
       "      <td>19114.12</td>\n",
       "      <td>1824.843333</td>\n",
       "      <td>3</td>\n",
       "      <td>4</td>\n",
       "      <td>3</td>\n",
       "      <td>4</td>\n",
       "      <td>5</td>\n",
       "      <td>...</td>\n",
       "      <td>809.98</td>\n",
       "      <td>31.377862</td>\n",
       "      <td>0</td>\n",
       "      <td>49.574949</td>\n",
       "      <td>199.4580743910713</td>\n",
       "      <td>6</td>\n",
       "      <td>223.451310</td>\n",
       "      <td>2</td>\n",
       "      <td>199.458074</td>\n",
       "      <td>6.27</td>\n",
       "    </tr>\n",
       "    <tr>\n",
       "      <th>4</th>\n",
       "      <td>7</td>\n",
       "      <td>23</td>\n",
       "      <td>12</td>\n",
       "      <td>19114.12</td>\n",
       "      <td>1824.843333</td>\n",
       "      <td>3</td>\n",
       "      <td>4</td>\n",
       "      <td>3</td>\n",
       "      <td>4</td>\n",
       "      <td>6</td>\n",
       "      <td>...</td>\n",
       "      <td>809.98</td>\n",
       "      <td>24.797347</td>\n",
       "      <td>0</td>\n",
       "      <td>49.574949</td>\n",
       "      <td>41.420153086217326</td>\n",
       "      <td>2</td>\n",
       "      <td>341.489231</td>\n",
       "      <td>2</td>\n",
       "      <td>41.420153</td>\n",
       "      <td>11.27</td>\n",
       "    </tr>\n",
       "  </tbody>\n",
       "</table>\n",
       "<p>5 rows × 24 columns</p>\n",
       "</div>"
      ],
      "text/plain": [
       "   Month  Age  Occupation  Annual_Income  Monthly_Inhand_Salary  \\\n",
       "0      3   23          12       19114.12            1824.843333   \n",
       "1      2   23          12       19114.12            1824.843333   \n",
       "2      6 -500          12       19114.12            1824.843333   \n",
       "3      0   23          12       19114.12            1824.843333   \n",
       "4      7   23          12       19114.12            1824.843333   \n",
       "\n",
       "   Num_Bank_Accounts  Num_Credit_Card  Interest_Rate  Num_of_Loan  \\\n",
       "0                  3                4              3            4   \n",
       "1                  3                4              3            4   \n",
       "2                  3                4              3            4   \n",
       "3                  3                4              3            4   \n",
       "4                  3                4              3            4   \n",
       "\n",
       "   Delay_from_due_date  ...  Outstanding_Debt Credit_Utilization_Ratio  \\\n",
       "0                    3  ...            809.98                26.822620   \n",
       "1                   -1  ...            809.98                31.944960   \n",
       "2                    3  ...            809.98                28.609352   \n",
       "3                    5  ...            809.98                31.377862   \n",
       "4                    6  ...            809.98                24.797347   \n",
       "\n",
       "   Payment_of_Min_Amount  Total_EMI_per_month  Amount_invested_monthly  \\\n",
       "0                      0            49.574949        80.41529543900253   \n",
       "1                      0            49.574949       118.28022162236736   \n",
       "2                      0            49.574949          81.699521264648   \n",
       "3                      0            49.574949        199.4580743910713   \n",
       "4                      0            49.574949       41.420153086217326   \n",
       "\n",
       "   Payment_Behaviour  Monthly_Balance  Credit_Score Amount invested_monthly  \\\n",
       "0                  3       312.494089             2               80.415295   \n",
       "1                  4       284.629162             2              118.280222   \n",
       "2                  5       331.209863             2               81.699521   \n",
       "3                  6       223.451310             2              199.458074   \n",
       "4                  2       341.489231             2               41.420153   \n",
       "\n",
       "   Changed Credit_Limit  \n",
       "0                 11.27  \n",
       "1                 11.27  \n",
       "2                 11.27  \n",
       "3                  6.27  \n",
       "4                 11.27  \n",
       "\n",
       "[5 rows x 24 columns]"
      ]
     },
     "execution_count": 32,
     "metadata": {},
     "output_type": "execute_result"
    }
   ],
   "source": [
    "df.head()"
   ]
  },
  {
   "cell_type": "code",
   "execution_count": 34,
   "id": "df7c3d8d",
   "metadata": {},
   "outputs": [
    {
     "name": "stdout",
     "output_type": "stream",
     "text": [
      "                     feature       VIF\n",
      "0                      Month  0.300012\n",
      "1                        Age  0.974661\n",
      "2                 Occupation  0.275594\n",
      "3              Annual_Income  0.985001\n",
      "4      Monthly_Inhand_Salary  0.365970\n",
      "5          Num_Bank_Accounts  0.979247\n",
      "6            Num_Credit_Card  0.970567\n",
      "7              Interest_Rate  0.976430\n",
      "8                Num_of_Loan  0.997697\n",
      "9        Delay_from_due_date  0.332213\n",
      "10    Num_of_Delayed_Payment  0.981707\n",
      "11      Num_Credit_Inquiries  0.979793\n",
      "12                Credit_Mix  0.321474\n",
      "13          Outstanding_Debt  0.396141\n",
      "14  Credit_Utilization_Ratio  0.024506\n",
      "15     Payment_of_Min_Amount  0.476749\n",
      "16       Total_EMI_per_month  0.972258\n",
      "17         Payment_Behaviour  0.256136\n",
      "18           Monthly_Balance  1.000217\n",
      "19              Credit_Score  0.366158\n",
      "20   Amount invested_monthly  0.911321\n",
      "21      Changed Credit_Limit  0.299307\n"
     ]
    }
   ],
   "source": [
    "from statsmodels.stats.outliers_influence import variance_inflation_factor\n",
    "col_list = []\n",
    "for col in df.columns:\n",
    "    if ((df[col].dtype != 'object') & (col != 'Credit Score') ):\n",
    "        col_list.append(col)\n",
    "X = df[col_list]\n",
    "vif_data = pd.DataFrame()\n",
    "vif_data[\"feature\"] = X.columns\n",
    "vif_data[\"VIF\"] = [variance_inflation_factor(X.values, i)\n",
    "for i in range(len(X.columns))]\n",
    "print(vif_data)"
   ]
  },
  {
   "cell_type": "markdown",
   "id": "b8b13da9",
   "metadata": {},
   "source": [
    "###### Selecting the features using VIF. VIF should be less  than 5. Here, all features have VIF value less than  5, So we will select all the features."
   ]
  },
  {
   "cell_type": "code",
   "execution_count": 35,
   "id": "cb9c2b8d",
   "metadata": {},
   "outputs": [],
   "source": [
    "X=df.drop(columns=[\"Credit_Score\"])\n",
    "y=df[\"Credit_Score\"]"
   ]
  },
  {
   "cell_type": "code",
   "execution_count": 38,
   "id": "f4cb2264",
   "metadata": {},
   "outputs": [],
   "source": [
    "from sklearn.model_selection import train_test_split\n",
    "x_train,x_test,y_train,y_test = train_test_split(X,y,test_size=0.2, random_state=15)"
   ]
  },
  {
   "cell_type": "code",
   "execution_count": 39,
   "id": "dc7a9ed1",
   "metadata": {},
   "outputs": [],
   "source": [
    "from sklearn.preprocessing import StandardScaler\n",
    "sc = StandardScaler()\n",
    "x_train = sc.fit_transform(x_train)\n",
    "x_test = sc.transform(x_test)"
   ]
  },
  {
   "cell_type": "code",
   "execution_count": 40,
   "id": "a1fad3d2",
   "metadata": {},
   "outputs": [],
   "source": [
    "from sklearn.linear_model import LogisticRegression\n",
    "lr = LogisticRegression()\n",
    "lr.fit(x_train,y_train)\n",
    "y_pred=lr.predict(x_test)"
   ]
  },
  {
   "cell_type": "code",
   "execution_count": 41,
   "id": "4e46564d",
   "metadata": {},
   "outputs": [
    {
     "data": {
      "text/plain": [
       "0.6189"
      ]
     },
     "execution_count": 41,
     "metadata": {},
     "output_type": "execute_result"
    }
   ],
   "source": [
    "from sklearn.metrics import accuracy_score\n",
    "accuracy_score (y_test,y_pred)"
   ]
  },
  {
   "cell_type": "code",
   "execution_count": 42,
   "id": "9adae7ca",
   "metadata": {},
   "outputs": [
    {
     "data": {
      "text/plain": [
       "0.6924"
      ]
     },
     "execution_count": 42,
     "metadata": {},
     "output_type": "execute_result"
    }
   ],
   "source": [
    "from sklearn.tree import DecisionTreeClassifier\n",
    "dt = DecisionTreeClassifier() \n",
    "dt.fit(x_train,y_train) \n",
    "y_pred= dt.predict(x_test)\n",
    "accuracy_score (y_test,y_pred)"
   ]
  },
  {
   "cell_type": "code",
   "execution_count": 45,
   "id": "f8191f4d",
   "metadata": {},
   "outputs": [
    {
     "data": {
      "text/plain": [
       "0.79415"
      ]
     },
     "execution_count": 45,
     "metadata": {},
     "output_type": "execute_result"
    }
   ],
   "source": [
    "from sklearn.ensemble import RandomForestClassifier\n",
    "rfc= RandomForestClassifier() \n",
    "rfc.fit(x_train,y_train)\n",
    "y_pred=rfc.predict(x_test)\n",
    "accuracy_score (y_test,y_pred)"
   ]
  },
  {
   "cell_type": "code",
   "execution_count": 47,
   "id": "76e66ad2",
   "metadata": {},
   "outputs": [
    {
     "name": "stdout",
     "output_type": "stream",
     "text": [
      "              precision    recall  f1-score   support\n",
      "\n",
      "           0       0.79      0.81      0.80      5861\n",
      "           1       0.81      0.81      0.81     10581\n",
      "           2       0.75      0.73      0.74      3558\n",
      "\n",
      "    accuracy                           0.79     20000\n",
      "   macro avg       0.78      0.78      0.78     20000\n",
      "weighted avg       0.79      0.79      0.79     20000\n",
      "\n"
     ]
    }
   ],
   "source": [
    "from sklearn.metrics import classification_report\n",
    "print(classification_report(y_test,y_pred))"
   ]
  }
 ],
 "metadata": {
  "kernelspec": {
   "display_name": "Python 3 (ipykernel)",
   "language": "python",
   "name": "python3"
  },
  "language_info": {
   "codemirror_mode": {
    "name": "ipython",
    "version": 3
   },
   "file_extension": ".py",
   "mimetype": "text/x-python",
   "name": "python",
   "nbconvert_exporter": "python",
   "pygments_lexer": "ipython3",
   "version": "3.9.13"
  }
 },
 "nbformat": 4,
 "nbformat_minor": 5
}
