{
 "cells": [
  {
   "cell_type": "markdown",
   "id": "c1caaf24",
   "metadata": {},
   "source": [
    "<h1 style=\"color: darkblue; font-family: 'Comic Sans MS', cursive, sans-serif;\">Analyzing Naming Trends Using Python</h1>"
   ]
  },
  {
   "cell_type": "markdown",
   "id": "83d4fe28",
   "metadata": {},
   "source": [
    "<h3 style=\"font-family: 'Arial', sans-serif;\">Objective:</h3><p>The dataset is in zipped format. We have to extract  Extract the dataset, count the number of male and female babies born in each year, and identify the most common baby names.</p>"
   ]
  },
  {
   "cell_type": "code",
   "execution_count": 1,
   "id": "1dfb8a77",
   "metadata": {},
   "outputs": [],
   "source": [
    "import pandas as pd\n",
    "import zipfile\n",
    "from io import BytesIO"
   ]
  },
  {
   "cell_type": "code",
   "execution_count": 2,
   "id": "8ad63237",
   "metadata": {},
   "outputs": [],
   "source": [
    "z = zipfile.ZipFile(r\"E:\\Projects Datas\\names.zip\")\n",
    "final_data = pd.DataFrame(columns = ['Name', 'Gender', 'Births', 'Year'])\n",
    "for i in z.infolist():\n",
    "    if(i.filename.endswith('txt')):\n",
    "        year = i.filename[3:7]\n",
    "        data = pd.read_csv(BytesIO(z.read(i.filename)),names = ['Name','Gender', 'Births', 'Year'], encoding='utf-8', engine='python', header=None)\n",
    "        data['Year'] = int(year)\n",
    "        final_data = pd.concat([final_data, data])"
   ]
  },
  {
   "cell_type": "code",
   "execution_count": 4,
   "id": "9af83efd",
   "metadata": {},
   "outputs": [],
   "source": [
    "data = final_data.copy()"
   ]
  },
  {
   "cell_type": "code",
   "execution_count": 13,
   "id": "401e848b",
   "metadata": {},
   "outputs": [],
   "source": [
    "data.reset_index(drop=True, inplace=True)"
   ]
  },
  {
   "cell_type": "code",
   "execution_count": 14,
   "id": "603feed3",
   "metadata": {},
   "outputs": [
    {
     "name": "stdout",
     "output_type": "stream",
     "text": [
      "<class 'pandas.core.frame.DataFrame'>\n",
      "RangeIndex: 2085158 entries, 0 to 2085157\n",
      "Data columns (total 4 columns):\n",
      " #   Column  Dtype \n",
      "---  ------  ----- \n",
      " 0   Name    object\n",
      " 1   Gender  object\n",
      " 2   Births  object\n",
      " 3   Year    object\n",
      "dtypes: object(4)\n",
      "memory usage: 63.6+ MB\n"
     ]
    }
   ],
   "source": [
    "data.info()"
   ]
  },
  {
   "cell_type": "code",
   "execution_count": 15,
   "id": "d3593458",
   "metadata": {},
   "outputs": [
    {
     "data": {
      "text/html": [
       "<div>\n",
       "<style scoped>\n",
       "    .dataframe tbody tr th:only-of-type {\n",
       "        vertical-align: middle;\n",
       "    }\n",
       "\n",
       "    .dataframe tbody tr th {\n",
       "        vertical-align: top;\n",
       "    }\n",
       "\n",
       "    .dataframe thead th {\n",
       "        text-align: right;\n",
       "    }\n",
       "</style>\n",
       "<table border=\"1\" class=\"dataframe\">\n",
       "  <thead>\n",
       "    <tr style=\"text-align: right;\">\n",
       "      <th></th>\n",
       "      <th>Name</th>\n",
       "      <th>Gender</th>\n",
       "      <th>Births</th>\n",
       "      <th>Year</th>\n",
       "    </tr>\n",
       "  </thead>\n",
       "  <tbody>\n",
       "    <tr>\n",
       "      <th>0</th>\n",
       "      <td>Mary</td>\n",
       "      <td>F</td>\n",
       "      <td>7065</td>\n",
       "      <td>1880</td>\n",
       "    </tr>\n",
       "    <tr>\n",
       "      <th>1</th>\n",
       "      <td>Anna</td>\n",
       "      <td>F</td>\n",
       "      <td>2604</td>\n",
       "      <td>1880</td>\n",
       "    </tr>\n",
       "    <tr>\n",
       "      <th>2</th>\n",
       "      <td>Emma</td>\n",
       "      <td>F</td>\n",
       "      <td>2003</td>\n",
       "      <td>1880</td>\n",
       "    </tr>\n",
       "    <tr>\n",
       "      <th>3</th>\n",
       "      <td>Elizabeth</td>\n",
       "      <td>F</td>\n",
       "      <td>1939</td>\n",
       "      <td>1880</td>\n",
       "    </tr>\n",
       "    <tr>\n",
       "      <th>4</th>\n",
       "      <td>Minnie</td>\n",
       "      <td>F</td>\n",
       "      <td>1746</td>\n",
       "      <td>1880</td>\n",
       "    </tr>\n",
       "  </tbody>\n",
       "</table>\n",
       "</div>"
      ],
      "text/plain": [
       "        Name Gender Births  Year\n",
       "0       Mary      F   7065  1880\n",
       "1       Anna      F   2604  1880\n",
       "2       Emma      F   2003  1880\n",
       "3  Elizabeth      F   1939  1880\n",
       "4     Minnie      F   1746  1880"
      ]
     },
     "execution_count": 15,
     "metadata": {},
     "output_type": "execute_result"
    }
   ],
   "source": [
    "data.head()"
   ]
  },
  {
   "cell_type": "markdown",
   "id": "f422100a",
   "metadata": {},
   "source": [
    "<h3 style=\"font-family: 'Arial', sans-serif;\">Totel Births</h3>"
   ]
  },
  {
   "cell_type": "code",
   "execution_count": 20,
   "id": "2e80f470",
   "metadata": {},
   "outputs": [],
   "source": [
    "total_births = data.pivot_table('Births', index='Year', columns='Gender', aggfunc=sum)"
   ]
  },
  {
   "cell_type": "code",
   "execution_count": 28,
   "id": "0b783214",
   "metadata": {},
   "outputs": [],
   "source": [
    "import matplotlib.pyplot as plt"
   ]
  },
  {
   "cell_type": "code",
   "execution_count": 34,
   "id": "756ad8c6",
   "metadata": {},
   "outputs": [
    {
     "data": {
      "image/png": "[encoded data removed]",
      "text/plain": [
       "<Figure size 2000x600 with 1 Axes>"
      ]
     },
     "metadata": {},
     "output_type": "display_data"
    }
   ],
   "source": [
    "total_births.plot(figsize=(20, 6))\n",
    "plt.show()"
   ]
  },
  {
   "cell_type": "markdown",
   "id": "f605bdcd",
   "metadata": {},
   "source": [
    "<h3 style=\"font-family: 'Arial', sans-serif;\">Popular Baby names by all time</h3>"
   ]
  },
  {
   "cell_type": "code",
   "execution_count": 53,
   "id": "8b6e8555",
   "metadata": {},
   "outputs": [],
   "source": [
    "popular_names = data.sort_values(['Births'], ascending = False)"
   ]
  },
  {
   "cell_type": "code",
   "execution_count": 54,
   "id": "e3f865fe",
   "metadata": {},
   "outputs": [
    {
     "data": {
      "text/html": [
       "<div>\n",
       "<style scoped>\n",
       "    .dataframe tbody tr th:only-of-type {\n",
       "        vertical-align: middle;\n",
       "    }\n",
       "\n",
       "    .dataframe tbody tr th {\n",
       "        vertical-align: top;\n",
       "    }\n",
       "\n",
       "    .dataframe thead th {\n",
       "        text-align: right;\n",
       "    }\n",
       "</style>\n",
       "<table border=\"1\" class=\"dataframe\">\n",
       "  <thead>\n",
       "    <tr style=\"text-align: right;\">\n",
       "      <th></th>\n",
       "      <th>Name</th>\n",
       "      <th>Gender</th>\n",
       "      <th>Births</th>\n",
       "      <th>Year</th>\n",
       "    </tr>\n",
       "  </thead>\n",
       "  <tbody>\n",
       "    <tr>\n",
       "      <th>431063</th>\n",
       "      <td>Linda</td>\n",
       "      <td>F</td>\n",
       "      <td>99693</td>\n",
       "      <td>1947</td>\n",
       "    </tr>\n",
       "    <tr>\n",
       "      <th>441434</th>\n",
       "      <td>Linda</td>\n",
       "      <td>F</td>\n",
       "      <td>96215</td>\n",
       "      <td>1948</td>\n",
       "    </tr>\n",
       "    <tr>\n",
       "      <th>437167</th>\n",
       "      <td>James</td>\n",
       "      <td>M</td>\n",
       "      <td>94758</td>\n",
       "      <td>1947</td>\n",
       "    </tr>\n",
       "    <tr>\n",
       "      <th>544672</th>\n",
       "      <td>Michael</td>\n",
       "      <td>M</td>\n",
       "      <td>92785</td>\n",
       "      <td>1957</td>\n",
       "    </tr>\n",
       "    <tr>\n",
       "      <th>437168</th>\n",
       "      <td>Robert</td>\n",
       "      <td>M</td>\n",
       "      <td>91650</td>\n",
       "      <td>1947</td>\n",
       "    </tr>\n",
       "  </tbody>\n",
       "</table>\n",
       "</div>"
      ],
      "text/plain": [
       "           Name Gender Births  Year\n",
       "431063    Linda      F  99693  1947\n",
       "441434    Linda      F  96215  1948\n",
       "437167    James      M  94758  1947\n",
       "544672  Michael      M  92785  1957\n",
       "437168   Robert      M  91650  1947"
      ]
     },
     "execution_count": 54,
     "metadata": {},
     "output_type": "execute_result"
    }
   ],
   "source": [
    "popular_names.head()"
   ]
  },
  {
   "cell_type": "code",
   "execution_count": 55,
   "id": "9130b05f",
   "metadata": {},
   "outputs": [],
   "source": [
    "grouped_names = popular_names.groupby('Name')['Births'].sum()\n",
    "sorted_names = grouped_names.sort_values(ascending=False)\n",
    "sorted_names = sorted_names.reset_index(drop=False)"
   ]
  },
  {
   "cell_type": "code",
   "execution_count": 57,
   "id": "232829b2",
   "metadata": {},
   "outputs": [
    {
     "data": {
      "text/html": [
       "<div>\n",
       "<style scoped>\n",
       "    .dataframe tbody tr th:only-of-type {\n",
       "        vertical-align: middle;\n",
       "    }\n",
       "\n",
       "    .dataframe tbody tr th {\n",
       "        vertical-align: top;\n",
       "    }\n",
       "\n",
       "    .dataframe thead th {\n",
       "        text-align: right;\n",
       "    }\n",
       "</style>\n",
       "<table border=\"1\" class=\"dataframe\">\n",
       "  <thead>\n",
       "    <tr style=\"text-align: right;\">\n",
       "      <th></th>\n",
       "      <th>Name</th>\n",
       "      <th>Births</th>\n",
       "    </tr>\n",
       "  </thead>\n",
       "  <tbody>\n",
       "    <tr>\n",
       "      <th>0</th>\n",
       "      <td>James</td>\n",
       "      <td>5238523</td>\n",
       "    </tr>\n",
       "    <tr>\n",
       "      <th>1</th>\n",
       "      <td>John</td>\n",
       "      <td>5180158</td>\n",
       "    </tr>\n",
       "    <tr>\n",
       "      <th>2</th>\n",
       "      <td>Robert</td>\n",
       "      <td>4858239</td>\n",
       "    </tr>\n",
       "    <tr>\n",
       "      <th>3</th>\n",
       "      <td>Michael</td>\n",
       "      <td>4423430</td>\n",
       "    </tr>\n",
       "    <tr>\n",
       "      <th>4</th>\n",
       "      <td>William</td>\n",
       "      <td>4183494</td>\n",
       "    </tr>\n",
       "    <tr>\n",
       "      <th>5</th>\n",
       "      <td>Mary</td>\n",
       "      <td>4149886</td>\n",
       "    </tr>\n",
       "    <tr>\n",
       "      <th>6</th>\n",
       "      <td>David</td>\n",
       "      <td>3667664</td>\n",
       "    </tr>\n",
       "    <tr>\n",
       "      <th>7</th>\n",
       "      <td>Joseph</td>\n",
       "      <td>2657975</td>\n",
       "    </tr>\n",
       "    <tr>\n",
       "      <th>8</th>\n",
       "      <td>Richard</td>\n",
       "      <td>2582274</td>\n",
       "    </tr>\n",
       "    <tr>\n",
       "      <th>9</th>\n",
       "      <td>Charles</td>\n",
       "      <td>2430018</td>\n",
       "    </tr>\n",
       "  </tbody>\n",
       "</table>\n",
       "</div>"
      ],
      "text/plain": [
       "      Name   Births\n",
       "0    James  5238523\n",
       "1     John  5180158\n",
       "2   Robert  4858239\n",
       "3  Michael  4423430\n",
       "4  William  4183494\n",
       "5     Mary  4149886\n",
       "6    David  3667664\n",
       "7   Joseph  2657975\n",
       "8  Richard  2582274\n",
       "9  Charles  2430018"
      ]
     },
     "execution_count": 57,
     "metadata": {},
     "output_type": "execute_result"
    }
   ],
   "source": [
    "sorted_names.head(10)"
   ]
  },
  {
   "cell_type": "code",
   "execution_count": 67,
   "id": "4da36660",
   "metadata": {},
   "outputs": [
    {
     "data": {
      "image/png": "[encoded data removed]",
      "text/plain": [
       "<Figure size 2000x500 with 1 Axes>"
      ]
     },
     "metadata": {},
     "output_type": "display_data"
    }
   ],
   "source": [
    "s = sorted_names.head(10)\n",
    "plt.figure(figsize=(20,5))\n",
    "plt.plot(s['Name'], s['Births'])\n",
    "plt.xlabel('Popular 10 Names')\n",
    "plt.ylabel('count')\n",
    "plt.title('Popular 10 Names and Counts')\n",
    "plt.show()"
   ]
  },
  {
   "cell_type": "markdown",
   "id": "0338b86d",
   "metadata": {},
   "source": [
    "### Popular Names in 2022"
   ]
  },
  {
   "cell_type": "code",
   "execution_count": 71,
   "id": "c2065e64",
   "metadata": {},
   "outputs": [],
   "source": [
    "popular_names_22 = popular_names[popular_names.Year == 2022]"
   ]
  },
  {
   "cell_type": "code",
   "execution_count": 73,
   "id": "8b91071b",
   "metadata": {},
   "outputs": [
    {
     "data": {
      "text/html": [
       "<div>\n",
       "<style scoped>\n",
       "    .dataframe tbody tr th:only-of-type {\n",
       "        vertical-align: middle;\n",
       "    }\n",
       "\n",
       "    .dataframe tbody tr th {\n",
       "        vertical-align: top;\n",
       "    }\n",
       "\n",
       "    .dataframe thead th {\n",
       "        text-align: right;\n",
       "    }\n",
       "</style>\n",
       "<table border=\"1\" class=\"dataframe\">\n",
       "  <thead>\n",
       "    <tr style=\"text-align: right;\">\n",
       "      <th></th>\n",
       "      <th>Name</th>\n",
       "      <th>Gender</th>\n",
       "      <th>Births</th>\n",
       "      <th>Year</th>\n",
       "    </tr>\n",
       "  </thead>\n",
       "  <tbody>\n",
       "    <tr>\n",
       "      <th>0</th>\n",
       "      <td>Liam</td>\n",
       "      <td>M</td>\n",
       "      <td>20456</td>\n",
       "      <td>2022</td>\n",
       "    </tr>\n",
       "    <tr>\n",
       "      <th>1</th>\n",
       "      <td>Noah</td>\n",
       "      <td>M</td>\n",
       "      <td>18621</td>\n",
       "      <td>2022</td>\n",
       "    </tr>\n",
       "    <tr>\n",
       "      <th>2</th>\n",
       "      <td>Olivia</td>\n",
       "      <td>F</td>\n",
       "      <td>16573</td>\n",
       "      <td>2022</td>\n",
       "    </tr>\n",
       "    <tr>\n",
       "      <th>3</th>\n",
       "      <td>Oliver</td>\n",
       "      <td>M</td>\n",
       "      <td>15076</td>\n",
       "      <td>2022</td>\n",
       "    </tr>\n",
       "    <tr>\n",
       "      <th>4</th>\n",
       "      <td>Emma</td>\n",
       "      <td>F</td>\n",
       "      <td>14435</td>\n",
       "      <td>2022</td>\n",
       "    </tr>\n",
       "    <tr>\n",
       "      <th>5</th>\n",
       "      <td>Charlotte</td>\n",
       "      <td>F</td>\n",
       "      <td>12891</td>\n",
       "      <td>2022</td>\n",
       "    </tr>\n",
       "    <tr>\n",
       "      <th>6</th>\n",
       "      <td>Amelia</td>\n",
       "      <td>F</td>\n",
       "      <td>12333</td>\n",
       "      <td>2022</td>\n",
       "    </tr>\n",
       "    <tr>\n",
       "      <th>7</th>\n",
       "      <td>Sophia</td>\n",
       "      <td>F</td>\n",
       "      <td>12310</td>\n",
       "      <td>2022</td>\n",
       "    </tr>\n",
       "    <tr>\n",
       "      <th>8</th>\n",
       "      <td>James</td>\n",
       "      <td>M</td>\n",
       "      <td>12028</td>\n",
       "      <td>2022</td>\n",
       "    </tr>\n",
       "    <tr>\n",
       "      <th>9</th>\n",
       "      <td>Elijah</td>\n",
       "      <td>M</td>\n",
       "      <td>11979</td>\n",
       "      <td>2022</td>\n",
       "    </tr>\n",
       "  </tbody>\n",
       "</table>\n",
       "</div>"
      ],
      "text/plain": [
       "        Name Gender Births  Year\n",
       "0       Liam      M  20456  2022\n",
       "1       Noah      M  18621  2022\n",
       "2     Olivia      F  16573  2022\n",
       "3     Oliver      M  15076  2022\n",
       "4       Emma      F  14435  2022\n",
       "5  Charlotte      F  12891  2022\n",
       "6     Amelia      F  12333  2022\n",
       "7     Sophia      F  12310  2022\n",
       "8      James      M  12028  2022\n",
       "9     Elijah      M  11979  2022"
      ]
     },
     "execution_count": 73,
     "metadata": {},
     "output_type": "execute_result"
    }
   ],
   "source": [
    "popular_names_22 = popular_names_22.reset_index(drop = True)\n",
    "popular_names_22.head(10)"
   ]
  },
  {
   "cell_type": "markdown",
   "id": "f59df655",
   "metadata": {},
   "source": [
    "### Popular Male and Female Names In all time"
   ]
  },
  {
   "cell_type": "code",
   "execution_count": 74,
   "id": "db500957",
   "metadata": {},
   "outputs": [],
   "source": [
    "popular_names_by_Male = popular_names[popular_names.Gender == 'M']"
   ]
  },
  {
   "cell_type": "code",
   "execution_count": 81,
   "id": "c932db95",
   "metadata": {},
   "outputs": [
    {
     "data": {
      "text/html": [
       "<div>\n",
       "<style scoped>\n",
       "    .dataframe tbody tr th:only-of-type {\n",
       "        vertical-align: middle;\n",
       "    }\n",
       "\n",
       "    .dataframe tbody tr th {\n",
       "        vertical-align: top;\n",
       "    }\n",
       "\n",
       "    .dataframe thead th {\n",
       "        text-align: right;\n",
       "    }\n",
       "</style>\n",
       "<table border=\"1\" class=\"dataframe\">\n",
       "  <thead>\n",
       "    <tr style=\"text-align: right;\">\n",
       "      <th></th>\n",
       "      <th>Name</th>\n",
       "      <th>Gender</th>\n",
       "      <th>Births</th>\n",
       "      <th>Year</th>\n",
       "    </tr>\n",
       "  </thead>\n",
       "  <tbody>\n",
       "    <tr>\n",
       "      <th>437167</th>\n",
       "      <td>James</td>\n",
       "      <td>M</td>\n",
       "      <td>94758</td>\n",
       "      <td>1947</td>\n",
       "    </tr>\n",
       "    <tr>\n",
       "      <th>544672</th>\n",
       "      <td>Michael</td>\n",
       "      <td>M</td>\n",
       "      <td>92785</td>\n",
       "      <td>1957</td>\n",
       "    </tr>\n",
       "    <tr>\n",
       "      <th>437168</th>\n",
       "      <td>Robert</td>\n",
       "      <td>M</td>\n",
       "      <td>91650</td>\n",
       "      <td>1947</td>\n",
       "    </tr>\n",
       "    <tr>\n",
       "      <th>533203</th>\n",
       "      <td>Michael</td>\n",
       "      <td>M</td>\n",
       "      <td>90696</td>\n",
       "      <td>1956</td>\n",
       "    </tr>\n",
       "    <tr>\n",
       "      <th>556254</th>\n",
       "      <td>Michael</td>\n",
       "      <td>M</td>\n",
       "      <td>90567</td>\n",
       "      <td>1958</td>\n",
       "    </tr>\n",
       "  </tbody>\n",
       "</table>\n",
       "</div>"
      ],
      "text/plain": [
       "           Name Gender Births  Year\n",
       "437167    James      M  94758  1947\n",
       "544672  Michael      M  92785  1957\n",
       "437168   Robert      M  91650  1947\n",
       "533203  Michael      M  90696  1956\n",
       "556254  Michael      M  90567  1958"
      ]
     },
     "execution_count": 81,
     "metadata": {},
     "output_type": "execute_result"
    }
   ],
   "source": [
    "popular_names_by_Male.head()"
   ]
  },
  {
   "cell_type": "code",
   "execution_count": 76,
   "id": "c8ad1aee",
   "metadata": {},
   "outputs": [],
   "source": [
    "grouped_Male_names = popular_names_by_Male.groupby('Name')['Births'].sum()\n",
    "sorted_Male_names = grouped_Male_names.sort_values(ascending=False)\n",
    "sorted_Male_names = sorted_Male_names.reset_index(drop=False)"
   ]
  },
  {
   "cell_type": "code",
   "execution_count": 79,
   "id": "f76fa08f",
   "metadata": {},
   "outputs": [
    {
     "data": {
      "text/html": [
       "<div>\n",
       "<style scoped>\n",
       "    .dataframe tbody tr th:only-of-type {\n",
       "        vertical-align: middle;\n",
       "    }\n",
       "\n",
       "    .dataframe tbody tr th {\n",
       "        vertical-align: top;\n",
       "    }\n",
       "\n",
       "    .dataframe thead th {\n",
       "        text-align: right;\n",
       "    }\n",
       "</style>\n",
       "<table border=\"1\" class=\"dataframe\">\n",
       "  <thead>\n",
       "    <tr style=\"text-align: right;\">\n",
       "      <th></th>\n",
       "      <th>Name</th>\n",
       "      <th>Births</th>\n",
       "    </tr>\n",
       "  </thead>\n",
       "  <tbody>\n",
       "    <tr>\n",
       "      <th>0</th>\n",
       "      <td>James</td>\n",
       "      <td>5214844</td>\n",
       "    </tr>\n",
       "    <tr>\n",
       "      <th>1</th>\n",
       "      <td>John</td>\n",
       "      <td>5158428</td>\n",
       "    </tr>\n",
       "    <tr>\n",
       "      <th>2</th>\n",
       "      <td>Robert</td>\n",
       "      <td>4838129</td>\n",
       "    </tr>\n",
       "    <tr>\n",
       "      <th>3</th>\n",
       "      <td>Michael</td>\n",
       "      <td>4401604</td>\n",
       "    </tr>\n",
       "    <tr>\n",
       "      <th>4</th>\n",
       "      <td>William</td>\n",
       "      <td>4167487</td>\n",
       "    </tr>\n",
       "    <tr>\n",
       "      <th>5</th>\n",
       "      <td>David</td>\n",
       "      <td>3654723</td>\n",
       "    </tr>\n",
       "    <tr>\n",
       "      <th>6</th>\n",
       "      <td>Joseph</td>\n",
       "      <td>2647283</td>\n",
       "    </tr>\n",
       "    <tr>\n",
       "      <th>7</th>\n",
       "      <td>Richard</td>\n",
       "      <td>2572740</td>\n",
       "    </tr>\n",
       "    <tr>\n",
       "      <th>8</th>\n",
       "      <td>Charles</td>\n",
       "      <td>2417569</td>\n",
       "    </tr>\n",
       "    <tr>\n",
       "      <th>9</th>\n",
       "      <td>Thomas</td>\n",
       "      <td>2338310</td>\n",
       "    </tr>\n",
       "  </tbody>\n",
       "</table>\n",
       "</div>"
      ],
      "text/plain": [
       "      Name   Births\n",
       "0    James  5214844\n",
       "1     John  5158428\n",
       "2   Robert  4838129\n",
       "3  Michael  4401604\n",
       "4  William  4167487\n",
       "5    David  3654723\n",
       "6   Joseph  2647283\n",
       "7  Richard  2572740\n",
       "8  Charles  2417569\n",
       "9   Thomas  2338310"
      ]
     },
     "execution_count": 79,
     "metadata": {},
     "output_type": "execute_result"
    }
   ],
   "source": [
    "sorted_Male_names.head(10)"
   ]
  },
  {
   "cell_type": "code",
   "execution_count": 80,
   "id": "2ae858b8",
   "metadata": {},
   "outputs": [],
   "source": [
    "popular_names_by_Female = popular_names[popular_names.Gender == 'F']"
   ]
  },
  {
   "cell_type": "code",
   "execution_count": 82,
   "id": "523dd34e",
   "metadata": {},
   "outputs": [],
   "source": [
    "grouped_Female_names = popular_names_by_Female.groupby('Name')['Births'].sum()\n",
    "sorted_Female_names = grouped_Female_names.sort_values(ascending=False)\n",
    "sorted_Female_names = sorted_Female_names.reset_index(drop=False)"
   ]
  },
  {
   "cell_type": "code",
   "execution_count": 84,
   "id": "dac739ed",
   "metadata": {},
   "outputs": [
    {
     "data": {
      "text/html": [
       "<div>\n",
       "<style scoped>\n",
       "    .dataframe tbody tr th:only-of-type {\n",
       "        vertical-align: middle;\n",
       "    }\n",
       "\n",
       "    .dataframe tbody tr th {\n",
       "        vertical-align: top;\n",
       "    }\n",
       "\n",
       "    .dataframe thead th {\n",
       "        text-align: right;\n",
       "    }\n",
       "</style>\n",
       "<table border=\"1\" class=\"dataframe\">\n",
       "  <thead>\n",
       "    <tr style=\"text-align: right;\">\n",
       "      <th></th>\n",
       "      <th>Name</th>\n",
       "      <th>Births</th>\n",
       "    </tr>\n",
       "  </thead>\n",
       "  <tbody>\n",
       "    <tr>\n",
       "      <th>0</th>\n",
       "      <td>Mary</td>\n",
       "      <td>4134713</td>\n",
       "    </tr>\n",
       "    <tr>\n",
       "      <th>1</th>\n",
       "      <td>Elizabeth</td>\n",
       "      <td>1668146</td>\n",
       "    </tr>\n",
       "    <tr>\n",
       "      <th>2</th>\n",
       "      <td>Patricia</td>\n",
       "      <td>1573024</td>\n",
       "    </tr>\n",
       "    <tr>\n",
       "      <th>3</th>\n",
       "      <td>Jennifer</td>\n",
       "      <td>1470012</td>\n",
       "    </tr>\n",
       "    <tr>\n",
       "      <th>4</th>\n",
       "      <td>Linda</td>\n",
       "      <td>1454120</td>\n",
       "    </tr>\n",
       "    <tr>\n",
       "      <th>5</th>\n",
       "      <td>Barbara</td>\n",
       "      <td>1435692</td>\n",
       "    </tr>\n",
       "    <tr>\n",
       "      <th>6</th>\n",
       "      <td>Margaret</td>\n",
       "      <td>1257878</td>\n",
       "    </tr>\n",
       "    <tr>\n",
       "      <th>7</th>\n",
       "      <td>Susan</td>\n",
       "      <td>1122752</td>\n",
       "    </tr>\n",
       "    <tr>\n",
       "      <th>8</th>\n",
       "      <td>Dorothy</td>\n",
       "      <td>1110081</td>\n",
       "    </tr>\n",
       "    <tr>\n",
       "      <th>9</th>\n",
       "      <td>Sarah</td>\n",
       "      <td>1090100</td>\n",
       "    </tr>\n",
       "  </tbody>\n",
       "</table>\n",
       "</div>"
      ],
      "text/plain": [
       "        Name   Births\n",
       "0       Mary  4134713\n",
       "1  Elizabeth  1668146\n",
       "2   Patricia  1573024\n",
       "3   Jennifer  1470012\n",
       "4      Linda  1454120\n",
       "5    Barbara  1435692\n",
       "6   Margaret  1257878\n",
       "7      Susan  1122752\n",
       "8    Dorothy  1110081\n",
       "9      Sarah  1090100"
      ]
     },
     "execution_count": 84,
     "metadata": {},
     "output_type": "execute_result"
    }
   ],
   "source": [
    "sorted_Female_names.head(10)"
   ]
  }
 ],
 "metadata": {
  "kernelspec": {
   "display_name": "Python 3 (ipykernel)",
   "language": "python",
   "name": "python3"
  },
  "language_info": {
   "codemirror_mode": {
    "name": "ipython",
    "version": 3
   },
   "file_extension": ".py",
   "mimetype": "text/x-python",
   "name": "python",
   "nbconvert_exporter": "python",
   "pygments_lexer": "ipython3",
   "version": "3.9.13"
  }
 },
 "nbformat": 4,
 "nbformat_minor": 5
}
