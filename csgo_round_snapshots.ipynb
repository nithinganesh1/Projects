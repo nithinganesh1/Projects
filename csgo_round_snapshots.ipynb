{
 "cells": [
  {
   "cell_type": "markdown",
   "id": "96872c3c",
   "metadata": {},
   "source": [
    "<h1 style=\"font-family:Comic Sans MS;color:darkblue;\">csgo_round_snapshots</h1>\n",
    "<p>The csgo_round_snapshots.csv file typically contains data related to Counter-Strike:\n",
    "    Global Offensive (CS:GO) match rounds and snapshots. </p>"
   ]
  },
  {
   "cell_type": "code",
   "execution_count": 32,
   "id": "664517f1",
   "metadata": {},
   "outputs": [],
   "source": [
    "import pandas as pd\n",
    "import numpy as np\n",
    "import matplotlib.pyplot as plt\n",
    "import seaborn as sns"
   ]
  },
  {
   "cell_type": "code",
   "execution_count": 33,
   "id": "29ab00a1",
   "metadata": {},
   "outputs": [
    {
     "data": {
      "text/html": [
       "<div>\n",
       "<style scoped>\n",
       "    .dataframe tbody tr th:only-of-type {\n",
       "        vertical-align: middle;\n",
       "    }\n",
       "\n",
       "    .dataframe tbody tr th {\n",
       "        vertical-align: top;\n",
       "    }\n",
       "\n",
       "    .dataframe thead th {\n",
       "        text-align: right;\n",
       "    }\n",
       "</style>\n",
       "<table border=\"1\" class=\"dataframe\">\n",
       "  <thead>\n",
       "    <tr style=\"text-align: right;\">\n",
       "      <th></th>\n",
       "      <th>time_left</th>\n",
       "      <th>ct_score</th>\n",
       "      <th>t_score</th>\n",
       "      <th>map</th>\n",
       "      <th>bomb_planted</th>\n",
       "      <th>ct_health</th>\n",
       "      <th>t_health</th>\n",
       "      <th>ct_armor</th>\n",
       "      <th>t_armor</th>\n",
       "      <th>ct_money</th>\n",
       "      <th>...</th>\n",
       "      <th>t_grenade_flashbang</th>\n",
       "      <th>ct_grenade_smokegrenade</th>\n",
       "      <th>t_grenade_smokegrenade</th>\n",
       "      <th>ct_grenade_incendiarygrenade</th>\n",
       "      <th>t_grenade_incendiarygrenade</th>\n",
       "      <th>ct_grenade_molotovgrenade</th>\n",
       "      <th>t_grenade_molotovgrenade</th>\n",
       "      <th>ct_grenade_decoygrenade</th>\n",
       "      <th>t_grenade_decoygrenade</th>\n",
       "      <th>round_winner</th>\n",
       "    </tr>\n",
       "  </thead>\n",
       "  <tbody>\n",
       "    <tr>\n",
       "      <th>0</th>\n",
       "      <td>175.00</td>\n",
       "      <td>0.0</td>\n",
       "      <td>0.0</td>\n",
       "      <td>de_dust2</td>\n",
       "      <td>False</td>\n",
       "      <td>500.0</td>\n",
       "      <td>500.0</td>\n",
       "      <td>0.0</td>\n",
       "      <td>0.0</td>\n",
       "      <td>4000.0</td>\n",
       "      <td>...</td>\n",
       "      <td>0.0</td>\n",
       "      <td>0.0</td>\n",
       "      <td>0.0</td>\n",
       "      <td>0.0</td>\n",
       "      <td>0.0</td>\n",
       "      <td>0.0</td>\n",
       "      <td>0.0</td>\n",
       "      <td>0.0</td>\n",
       "      <td>0.0</td>\n",
       "      <td>CT</td>\n",
       "    </tr>\n",
       "    <tr>\n",
       "      <th>1</th>\n",
       "      <td>156.03</td>\n",
       "      <td>0.0</td>\n",
       "      <td>0.0</td>\n",
       "      <td>de_dust2</td>\n",
       "      <td>False</td>\n",
       "      <td>500.0</td>\n",
       "      <td>500.0</td>\n",
       "      <td>400.0</td>\n",
       "      <td>300.0</td>\n",
       "      <td>600.0</td>\n",
       "      <td>...</td>\n",
       "      <td>0.0</td>\n",
       "      <td>0.0</td>\n",
       "      <td>2.0</td>\n",
       "      <td>0.0</td>\n",
       "      <td>0.0</td>\n",
       "      <td>0.0</td>\n",
       "      <td>0.0</td>\n",
       "      <td>0.0</td>\n",
       "      <td>0.0</td>\n",
       "      <td>CT</td>\n",
       "    </tr>\n",
       "    <tr>\n",
       "      <th>2</th>\n",
       "      <td>96.03</td>\n",
       "      <td>0.0</td>\n",
       "      <td>0.0</td>\n",
       "      <td>de_dust2</td>\n",
       "      <td>False</td>\n",
       "      <td>391.0</td>\n",
       "      <td>400.0</td>\n",
       "      <td>294.0</td>\n",
       "      <td>200.0</td>\n",
       "      <td>750.0</td>\n",
       "      <td>...</td>\n",
       "      <td>0.0</td>\n",
       "      <td>0.0</td>\n",
       "      <td>2.0</td>\n",
       "      <td>0.0</td>\n",
       "      <td>0.0</td>\n",
       "      <td>0.0</td>\n",
       "      <td>0.0</td>\n",
       "      <td>0.0</td>\n",
       "      <td>0.0</td>\n",
       "      <td>CT</td>\n",
       "    </tr>\n",
       "    <tr>\n",
       "      <th>3</th>\n",
       "      <td>76.03</td>\n",
       "      <td>0.0</td>\n",
       "      <td>0.0</td>\n",
       "      <td>de_dust2</td>\n",
       "      <td>False</td>\n",
       "      <td>391.0</td>\n",
       "      <td>400.0</td>\n",
       "      <td>294.0</td>\n",
       "      <td>200.0</td>\n",
       "      <td>750.0</td>\n",
       "      <td>...</td>\n",
       "      <td>0.0</td>\n",
       "      <td>0.0</td>\n",
       "      <td>0.0</td>\n",
       "      <td>0.0</td>\n",
       "      <td>0.0</td>\n",
       "      <td>0.0</td>\n",
       "      <td>0.0</td>\n",
       "      <td>0.0</td>\n",
       "      <td>0.0</td>\n",
       "      <td>CT</td>\n",
       "    </tr>\n",
       "    <tr>\n",
       "      <th>4</th>\n",
       "      <td>174.97</td>\n",
       "      <td>1.0</td>\n",
       "      <td>0.0</td>\n",
       "      <td>de_dust2</td>\n",
       "      <td>False</td>\n",
       "      <td>500.0</td>\n",
       "      <td>500.0</td>\n",
       "      <td>192.0</td>\n",
       "      <td>0.0</td>\n",
       "      <td>18350.0</td>\n",
       "      <td>...</td>\n",
       "      <td>0.0</td>\n",
       "      <td>0.0</td>\n",
       "      <td>0.0</td>\n",
       "      <td>0.0</td>\n",
       "      <td>0.0</td>\n",
       "      <td>0.0</td>\n",
       "      <td>0.0</td>\n",
       "      <td>0.0</td>\n",
       "      <td>0.0</td>\n",
       "      <td>CT</td>\n",
       "    </tr>\n",
       "  </tbody>\n",
       "</table>\n",
       "<p>5 rows × 97 columns</p>\n",
       "</div>"
      ],
      "text/plain": [
       "   time_left  ct_score  t_score       map  bomb_planted  ct_health  t_health  \\\n",
       "0     175.00       0.0      0.0  de_dust2         False      500.0     500.0   \n",
       "1     156.03       0.0      0.0  de_dust2         False      500.0     500.0   \n",
       "2      96.03       0.0      0.0  de_dust2         False      391.0     400.0   \n",
       "3      76.03       0.0      0.0  de_dust2         False      391.0     400.0   \n",
       "4     174.97       1.0      0.0  de_dust2         False      500.0     500.0   \n",
       "\n",
       "   ct_armor  t_armor  ct_money  ...  t_grenade_flashbang  \\\n",
       "0       0.0      0.0    4000.0  ...                  0.0   \n",
       "1     400.0    300.0     600.0  ...                  0.0   \n",
       "2     294.0    200.0     750.0  ...                  0.0   \n",
       "3     294.0    200.0     750.0  ...                  0.0   \n",
       "4     192.0      0.0   18350.0  ...                  0.0   \n",
       "\n",
       "   ct_grenade_smokegrenade  t_grenade_smokegrenade  \\\n",
       "0                      0.0                     0.0   \n",
       "1                      0.0                     2.0   \n",
       "2                      0.0                     2.0   \n",
       "3                      0.0                     0.0   \n",
       "4                      0.0                     0.0   \n",
       "\n",
       "   ct_grenade_incendiarygrenade  t_grenade_incendiarygrenade  \\\n",
       "0                           0.0                          0.0   \n",
       "1                           0.0                          0.0   \n",
       "2                           0.0                          0.0   \n",
       "3                           0.0                          0.0   \n",
       "4                           0.0                          0.0   \n",
       "\n",
       "   ct_grenade_molotovgrenade  t_grenade_molotovgrenade  \\\n",
       "0                        0.0                       0.0   \n",
       "1                        0.0                       0.0   \n",
       "2                        0.0                       0.0   \n",
       "3                        0.0                       0.0   \n",
       "4                        0.0                       0.0   \n",
       "\n",
       "   ct_grenade_decoygrenade  t_grenade_decoygrenade  round_winner  \n",
       "0                      0.0                     0.0            CT  \n",
       "1                      0.0                     0.0            CT  \n",
       "2                      0.0                     0.0            CT  \n",
       "3                      0.0                     0.0            CT  \n",
       "4                      0.0                     0.0            CT  \n",
       "\n",
       "[5 rows x 97 columns]"
      ]
     },
     "execution_count": 33,
     "metadata": {},
     "output_type": "execute_result"
    }
   ],
   "source": [
    "data = pd.read_csv(r\"E:\\Projects Datas\\csgo_round\\csgo_round_snapshots.csv\")\n",
    "data.head()"
   ]
  },
  {
   "cell_type": "code",
   "execution_count": 34,
   "id": "94720dbe",
   "metadata": {},
   "outputs": [
    {
     "data": {
      "text/plain": [
       "Index(['time_left', 'ct_score', 't_score', 'map', 'bomb_planted', 'ct_health',\n",
       "       't_health', 'ct_armor', 't_armor', 'ct_money', 't_money', 'ct_helmets',\n",
       "       't_helmets', 'ct_defuse_kits', 'ct_players_alive', 't_players_alive',\n",
       "       'ct_weapon_ak47', 't_weapon_ak47', 'ct_weapon_aug', 't_weapon_aug',\n",
       "       'ct_weapon_awp', 't_weapon_awp', 'ct_weapon_bizon', 't_weapon_bizon',\n",
       "       'ct_weapon_cz75auto', 't_weapon_cz75auto', 'ct_weapon_elite',\n",
       "       't_weapon_elite', 'ct_weapon_famas', 't_weapon_famas',\n",
       "       'ct_weapon_g3sg1', 't_weapon_g3sg1', 'ct_weapon_galilar',\n",
       "       't_weapon_galilar', 'ct_weapon_glock', 't_weapon_glock',\n",
       "       'ct_weapon_m249', 't_weapon_m249', 'ct_weapon_m4a1s', 't_weapon_m4a1s',\n",
       "       'ct_weapon_m4a4', 't_weapon_m4a4', 'ct_weapon_mac10', 't_weapon_mac10',\n",
       "       'ct_weapon_mag7', 't_weapon_mag7', 'ct_weapon_mp5sd', 't_weapon_mp5sd',\n",
       "       'ct_weapon_mp7', 't_weapon_mp7', 'ct_weapon_mp9', 't_weapon_mp9',\n",
       "       'ct_weapon_negev', 't_weapon_negev', 'ct_weapon_nova', 't_weapon_nova',\n",
       "       'ct_weapon_p90', 't_weapon_p90', 'ct_weapon_r8revolver',\n",
       "       't_weapon_r8revolver', 'ct_weapon_sawedoff', 't_weapon_sawedoff',\n",
       "       'ct_weapon_scar20', 't_weapon_scar20', 'ct_weapon_sg553',\n",
       "       't_weapon_sg553', 'ct_weapon_ssg08', 't_weapon_ssg08',\n",
       "       'ct_weapon_ump45', 't_weapon_ump45', 'ct_weapon_xm1014',\n",
       "       't_weapon_xm1014', 'ct_weapon_deagle', 't_weapon_deagle',\n",
       "       'ct_weapon_fiveseven', 't_weapon_fiveseven', 'ct_weapon_usps',\n",
       "       't_weapon_usps', 'ct_weapon_p250', 't_weapon_p250', 'ct_weapon_p2000',\n",
       "       't_weapon_p2000', 'ct_weapon_tec9', 't_weapon_tec9',\n",
       "       'ct_grenade_hegrenade', 't_grenade_hegrenade', 'ct_grenade_flashbang',\n",
       "       't_grenade_flashbang', 'ct_grenade_smokegrenade',\n",
       "       't_grenade_smokegrenade', 'ct_grenade_incendiarygrenade',\n",
       "       't_grenade_incendiarygrenade', 'ct_grenade_molotovgrenade',\n",
       "       't_grenade_molotovgrenade', 'ct_grenade_decoygrenade',\n",
       "       't_grenade_decoygrenade', 'round_winner'],\n",
       "      dtype='object')"
      ]
     },
     "execution_count": 34,
     "metadata": {},
     "output_type": "execute_result"
    }
   ],
   "source": [
    "data.columns"
   ]
  },
  {
   "cell_type": "code",
   "execution_count": 35,
   "id": "8988f3e8",
   "metadata": {},
   "outputs": [
    {
     "data": {
      "text/plain": [
       "(122410, 97)"
      ]
     },
     "execution_count": 35,
     "metadata": {},
     "output_type": "execute_result"
    }
   ],
   "source": [
    "data.shape"
   ]
  },
  {
   "cell_type": "code",
   "execution_count": 36,
   "id": "b9eec71b",
   "metadata": {},
   "outputs": [
    {
     "name": "stdout",
     "output_type": "stream",
     "text": [
      "<class 'pandas.core.frame.DataFrame'>\n",
      "RangeIndex: 122410 entries, 0 to 122409\n",
      "Data columns (total 97 columns):\n",
      " #   Column                        Non-Null Count   Dtype  \n",
      "---  ------                        --------------   -----  \n",
      " 0   time_left                     122410 non-null  float64\n",
      " 1   ct_score                      122410 non-null  float64\n",
      " 2   t_score                       122410 non-null  float64\n",
      " 3   map                           122410 non-null  object \n",
      " 4   bomb_planted                  122410 non-null  bool   \n",
      " 5   ct_health                     122410 non-null  float64\n",
      " 6   t_health                      122410 non-null  float64\n",
      " 7   ct_armor                      122410 non-null  float64\n",
      " 8   t_armor                       122410 non-null  float64\n",
      " 9   ct_money                      122410 non-null  float64\n",
      " 10  t_money                       122410 non-null  float64\n",
      " 11  ct_helmets                    122410 non-null  float64\n",
      " 12  t_helmets                     122410 non-null  float64\n",
      " 13  ct_defuse_kits                122410 non-null  float64\n",
      " 14  ct_players_alive              122410 non-null  float64\n",
      " 15  t_players_alive               122410 non-null  float64\n",
      " 16  ct_weapon_ak47                122410 non-null  float64\n",
      " 17  t_weapon_ak47                 122410 non-null  float64\n",
      " 18  ct_weapon_aug                 122410 non-null  float64\n",
      " 19  t_weapon_aug                  122410 non-null  float64\n",
      " 20  ct_weapon_awp                 122410 non-null  float64\n",
      " 21  t_weapon_awp                  122410 non-null  float64\n",
      " 22  ct_weapon_bizon               122410 non-null  float64\n",
      " 23  t_weapon_bizon                122410 non-null  float64\n",
      " 24  ct_weapon_cz75auto            122410 non-null  float64\n",
      " 25  t_weapon_cz75auto             122410 non-null  float64\n",
      " 26  ct_weapon_elite               122410 non-null  float64\n",
      " 27  t_weapon_elite                122410 non-null  float64\n",
      " 28  ct_weapon_famas               122410 non-null  float64\n",
      " 29  t_weapon_famas                122410 non-null  float64\n",
      " 30  ct_weapon_g3sg1               122410 non-null  float64\n",
      " 31  t_weapon_g3sg1                122410 non-null  float64\n",
      " 32  ct_weapon_galilar             122410 non-null  float64\n",
      " 33  t_weapon_galilar              122410 non-null  float64\n",
      " 34  ct_weapon_glock               122410 non-null  float64\n",
      " 35  t_weapon_glock                122410 non-null  float64\n",
      " 36  ct_weapon_m249                122410 non-null  float64\n",
      " 37  t_weapon_m249                 122410 non-null  float64\n",
      " 38  ct_weapon_m4a1s               122410 non-null  float64\n",
      " 39  t_weapon_m4a1s                122410 non-null  float64\n",
      " 40  ct_weapon_m4a4                122410 non-null  float64\n",
      " 41  t_weapon_m4a4                 122410 non-null  float64\n",
      " 42  ct_weapon_mac10               122410 non-null  float64\n",
      " 43  t_weapon_mac10                122410 non-null  float64\n",
      " 44  ct_weapon_mag7                122410 non-null  float64\n",
      " 45  t_weapon_mag7                 122410 non-null  float64\n",
      " 46  ct_weapon_mp5sd               122410 non-null  float64\n",
      " 47  t_weapon_mp5sd                122410 non-null  float64\n",
      " 48  ct_weapon_mp7                 122410 non-null  float64\n",
      " 49  t_weapon_mp7                  122410 non-null  float64\n",
      " 50  ct_weapon_mp9                 122410 non-null  float64\n",
      " 51  t_weapon_mp9                  122410 non-null  float64\n",
      " 52  ct_weapon_negev               122410 non-null  float64\n",
      " 53  t_weapon_negev                122410 non-null  float64\n",
      " 54  ct_weapon_nova                122410 non-null  float64\n",
      " 55  t_weapon_nova                 122410 non-null  float64\n",
      " 56  ct_weapon_p90                 122410 non-null  float64\n",
      " 57  t_weapon_p90                  122410 non-null  float64\n",
      " 58  ct_weapon_r8revolver          122410 non-null  float64\n",
      " 59  t_weapon_r8revolver           122410 non-null  float64\n",
      " 60  ct_weapon_sawedoff            122410 non-null  float64\n",
      " 61  t_weapon_sawedoff             122410 non-null  float64\n",
      " 62  ct_weapon_scar20              122410 non-null  float64\n",
      " 63  t_weapon_scar20               122410 non-null  float64\n",
      " 64  ct_weapon_sg553               122410 non-null  float64\n",
      " 65  t_weapon_sg553                122410 non-null  float64\n",
      " 66  ct_weapon_ssg08               122410 non-null  float64\n",
      " 67  t_weapon_ssg08                122410 non-null  float64\n",
      " 68  ct_weapon_ump45               122410 non-null  float64\n",
      " 69  t_weapon_ump45                122410 non-null  float64\n",
      " 70  ct_weapon_xm1014              122410 non-null  float64\n",
      " 71  t_weapon_xm1014               122410 non-null  float64\n",
      " 72  ct_weapon_deagle              122410 non-null  float64\n",
      " 73  t_weapon_deagle               122410 non-null  float64\n",
      " 74  ct_weapon_fiveseven           122410 non-null  float64\n",
      " 75  t_weapon_fiveseven            122410 non-null  float64\n",
      " 76  ct_weapon_usps                122410 non-null  float64\n",
      " 77  t_weapon_usps                 122410 non-null  float64\n",
      " 78  ct_weapon_p250                122410 non-null  float64\n",
      " 79  t_weapon_p250                 122410 non-null  float64\n",
      " 80  ct_weapon_p2000               122410 non-null  float64\n",
      " 81  t_weapon_p2000                122410 non-null  float64\n",
      " 82  ct_weapon_tec9                122410 non-null  float64\n",
      " 83  t_weapon_tec9                 122410 non-null  float64\n",
      " 84  ct_grenade_hegrenade          122410 non-null  float64\n",
      " 85  t_grenade_hegrenade           122410 non-null  float64\n",
      " 86  ct_grenade_flashbang          122410 non-null  float64\n",
      " 87  t_grenade_flashbang           122410 non-null  float64\n",
      " 88  ct_grenade_smokegrenade       122410 non-null  float64\n",
      " 89  t_grenade_smokegrenade        122410 non-null  float64\n",
      " 90  ct_grenade_incendiarygrenade  122410 non-null  float64\n",
      " 91  t_grenade_incendiarygrenade   122410 non-null  float64\n",
      " 92  ct_grenade_molotovgrenade     122410 non-null  float64\n",
      " 93  t_grenade_molotovgrenade      122410 non-null  float64\n",
      " 94  ct_grenade_decoygrenade       122410 non-null  float64\n",
      " 95  t_grenade_decoygrenade        122410 non-null  float64\n",
      " 96  round_winner                  122410 non-null  object \n",
      "dtypes: bool(1), float64(94), object(2)\n",
      "memory usage: 89.8+ MB\n"
     ]
    }
   ],
   "source": [
    "data.info()"
   ]
  },
  {
   "cell_type": "code",
   "execution_count": 37,
   "id": "2320900c",
   "metadata": {},
   "outputs": [
    {
     "data": {
      "text/plain": [
       "0"
      ]
     },
     "execution_count": 37,
     "metadata": {},
     "output_type": "execute_result"
    }
   ],
   "source": [
    "data.isnull().sum().sum()"
   ]
  },
  {
   "cell_type": "code",
   "execution_count": 38,
   "id": "752201ae",
   "metadata": {},
   "outputs": [
    {
     "data": {
      "text/plain": [
       "de_inferno     23811\n",
       "de_dust2       22144\n",
       "de_nuke        19025\n",
       "de_mirage      18576\n",
       "de_overpass    14081\n",
       "de_train       13491\n",
       "de_vertigo     11137\n",
       "de_cache         145\n",
       "Name: map, dtype: int64"
      ]
     },
     "execution_count": 38,
     "metadata": {},
     "output_type": "execute_result"
    }
   ],
   "source": [
    "data.map.value_counts()"
   ]
  },
  {
   "cell_type": "code",
   "execution_count": 39,
   "id": "757c6fee",
   "metadata": {},
   "outputs": [
    {
     "data": {
      "text/plain": [
       "False    108726\n",
       "True      13684\n",
       "Name: bomb_planted, dtype: int64"
      ]
     },
     "execution_count": 39,
     "metadata": {},
     "output_type": "execute_result"
    }
   ],
   "source": [
    "data.bomb_planted.value_counts()"
   ]
  },
  {
   "cell_type": "code",
   "execution_count": 40,
   "id": "a76b2bf6",
   "metadata": {},
   "outputs": [
    {
     "data": {
      "text/plain": [
       "T     62406\n",
       "CT    60004\n",
       "Name: round_winner, dtype: int64"
      ]
     },
     "execution_count": 40,
     "metadata": {},
     "output_type": "execute_result"
    }
   ],
   "source": [
    "data.round_winner.value_counts()"
   ]
  },
  {
   "cell_type": "code",
   "execution_count": 41,
   "id": "97745cdc",
   "metadata": {},
   "outputs": [],
   "source": [
    "# Converting categorical features into a integer column\n",
    "from sklearn.preprocessing import LabelEncoder\n",
    "le=LabelEncoder()\n",
    "data[\"bomb_planted\"]=le.fit_transform(data[\"bomb_planted\"])\n",
    "data[\"map\"]=le.fit_transform(data[\"map\"])\n",
    "data[\"round_winner\"]=le.fit_transform(data[\"round_winner\"])"
   ]
  },
  {
   "cell_type": "code",
   "execution_count": 42,
   "id": "d4bfcc2c",
   "metadata": {},
   "outputs": [
    {
     "data": {
      "text/plain": [
       "map             int32\n",
       "bomb_planted    int64\n",
       "round_winner    int32\n",
       "dtype: object"
      ]
     },
     "execution_count": 42,
     "metadata": {},
     "output_type": "execute_result"
    }
   ],
   "source": [
    "data[['map','bomb_planted','round_winner']].dtypes"
   ]
  },
  {
   "cell_type": "code",
   "execution_count": 50,
   "id": "c4760738",
   "metadata": {},
   "outputs": [
    {
     "data": {
      "text/plain": [
       "round_winner                    1.000000\n",
       "ct_armor                        0.336382\n",
       "ct_helmets                      0.308255\n",
       "t_helmets                       0.297458\n",
       "ct_defuse_kits                  0.291557\n",
       "t_armor                         0.290753\n",
       "ct_grenade_flashbang            0.253868\n",
       "ct_players_alive                0.216798\n",
       "ct_grenade_smokegrenade         0.209975\n",
       "ct_weapon_awp                   0.198626\n",
       "t_weapon_ak47                   0.194147\n",
       "ct_health                       0.190662\n",
       "bomb_planted                    0.187101\n",
       "ct_weapon_m4a4                  0.178008\n",
       "ct_grenade_hegrenade            0.168781\n",
       "ct_grenade_incendiarygrenade    0.168517\n",
       "ct_weapon_ak47                  0.166855\n",
       "t_grenade_flashbang             0.166839\n",
       "ct_weapon_sg553                 0.163963\n",
       "t_weapon_sg553                  0.163709\n",
       "ct_weapon_usps                  0.152893\n",
       "t_weapon_awp                    0.149878\n",
       "t_players_alive                 0.142518\n",
       "t_grenade_smokegrenade          0.140348\n",
       "t_weapon_usps                   0.136694\n",
       "Name: round_winner, dtype: float64"
      ]
     },
     "execution_count": 50,
     "metadata": {},
     "output_type": "execute_result"
    }
   ],
   "source": [
    "abs(data.corr()['round_winner']).sort_values(ascending = False).head(25)"
   ]
  },
  {
   "cell_type": "code",
   "execution_count": 52,
   "id": "29ccf76a",
   "metadata": {},
   "outputs": [],
   "source": [
    "X=data.drop(columns=[\"round_winner\"])\n",
    "y=data[[\"round_winner\"]]"
   ]
  },
  {
   "cell_type": "code",
   "execution_count": 53,
   "id": "28059a65",
   "metadata": {},
   "outputs": [],
   "source": [
    "from sklearn.model_selection import train_test_split\n",
    "x_train,x_test,y_train,y_test=train_test_split(X,y,test_size=0.2,random_state=15)"
   ]
  },
  {
   "cell_type": "code",
   "execution_count": 54,
   "id": "0bfe3cb5",
   "metadata": {},
   "outputs": [],
   "source": [
    "from sklearn.preprocessing import StandardScaler\n",
    "sc=StandardScaler()\n",
    "x_train=sc.fit_transform(x_train)\n",
    "x_test=sc.transform(x_test)"
   ]
  },
  {
   "cell_type": "code",
   "execution_count": 57,
   "id": "6e30f685",
   "metadata": {},
   "outputs": [],
   "source": [
    "#LDA\n",
    "from sklearn.discriminant_analysis import LinearDiscriminantAnalysis\n",
    "lda=LinearDiscriminantAnalysis()"
   ]
  },
  {
   "cell_type": "code",
   "execution_count": 58,
   "id": "bdcd4b34",
   "metadata": {},
   "outputs": [
    {
     "data": {
      "text/plain": [
       "round_winner\n",
       "1               62406\n",
       "0               60004\n",
       "dtype: int64"
      ]
     },
     "execution_count": 58,
     "metadata": {},
     "output_type": "execute_result"
    }
   ],
   "source": [
    "y.value_counts()"
   ]
  },
  {
   "cell_type": "code",
   "execution_count": 59,
   "id": "8205f402",
   "metadata": {},
   "outputs": [
    {
     "name": "stderr",
     "output_type": "stream",
     "text": [
      "C:\\Users\\Nithin\\anaconda3\\lib\\site-packages\\sklearn\\utils\\validation.py:993: DataConversionWarning: A column-vector y was passed when a 1d array was expected. Please change the shape of y to (n_samples, ), for example using ravel().\n",
      "  y = column_or_1d(y, warn=True)\n"
     ]
    },
    {
     "data": {
      "text/plain": [
       "LinearDiscriminantAnalysis()"
      ]
     },
     "execution_count": 59,
     "metadata": {},
     "output_type": "execute_result"
    }
   ],
   "source": [
    "lda.fit(x_train,y_train)"
   ]
  },
  {
   "cell_type": "code",
   "execution_count": 60,
   "id": "219089ba",
   "metadata": {},
   "outputs": [
    {
     "data": {
      "text/plain": [
       "array([[ 2.95107273],\n",
       "       [ 0.52567688],\n",
       "       [-1.24955806],\n",
       "       ...,\n",
       "       [ 2.42090756],\n",
       "       [-1.24823798],\n",
       "       [ 4.09085247]])"
      ]
     },
     "execution_count": 60,
     "metadata": {},
     "output_type": "execute_result"
    }
   ],
   "source": [
    "lda.transform(x_test)"
   ]
  },
  {
   "cell_type": "code",
   "execution_count": 66,
   "id": "576831a8",
   "metadata": {},
   "outputs": [
    {
     "data": {
      "text/plain": [
       "array([[ 1.40136810e-01, -1.86393707e-02,  1.19354929e-02,\n",
       "        -7.94487079e-02,  2.43136870e-01, -4.64030697e-01,\n",
       "         3.52130082e-01, -5.46946431e-01,  5.27514331e-01,\n",
       "        -2.05115222e-01,  1.60506168e-01,  2.76832319e-02,\n",
       "         1.67043095e-01, -1.57503927e-02, -2.09802770e-01,\n",
       "         3.08444311e-01, -1.98620507e-01,  6.03997297e-01,\n",
       "        -2.07436335e-01,  2.70883607e-02, -3.17099313e-01,\n",
       "         2.43132697e-01, -1.19423645e-16, -1.02722120e-02,\n",
       "         2.50944937e-02,  1.63461764e-02, -1.47432462e-02,\n",
       "         1.30553716e-02, -1.44560288e-01,  4.48140991e-02,\n",
       "        -4.56798211e-16,  1.97231198e-02, -4.80649952e-02,\n",
       "         1.33213973e-01,  2.40290459e-02, -1.07482214e-01,\n",
       "         1.08696865e-02,  6.98453695e-17, -1.03707330e-01,\n",
       "         4.12870161e-02, -4.82370138e-01,  9.85652721e-02,\n",
       "        -2.25909379e-02,  1.06626547e-01, -1.64848682e-02,\n",
       "         4.92028314e-03, -1.58282433e-02,  3.79867884e-02,\n",
       "         9.12927794e-03, -5.53332586e-03, -1.17049081e-01,\n",
       "         3.28713128e-02, -5.48252676e-16, -7.49634829e-03,\n",
       "        -1.89470618e-02, -1.00211305e-02, -2.71773322e-02,\n",
       "         1.22931814e-02,  1.16041851e-17, -6.35710771e-03,\n",
       "        -4.64176489e-16,  1.59360514e-02,  2.10343632e-03,\n",
       "        -4.71268619e-16, -2.23324808e-01,  5.43578140e-01,\n",
       "        -8.45365208e-02,  1.98959773e-02, -4.85170277e-02,\n",
       "         7.97172476e-02, -2.34460160e-02, -2.25138947e-03,\n",
       "         3.47025284e-02,  1.80347609e-02,  4.77959959e-02,\n",
       "        -3.46317050e-02,  1.64608395e-01,  4.85710720e-02,\n",
       "         6.91077877e-02, -3.95226548e-03,  7.13707778e-02,\n",
       "         2.26739312e-02, -1.05071001e-02,  1.27125971e-02,\n",
       "        -5.59463221e-03,  1.31656770e-02,  5.10740197e-02,\n",
       "        -1.88735566e-01,  6.61037988e-02, -2.37681128e-01,\n",
       "         1.04299668e-01, -9.50267866e-03,  9.26978783e-03,\n",
       "        -1.11798858e-01, -2.15490775e-03,  2.93854985e-02]])"
      ]
     },
     "execution_count": 66,
     "metadata": {},
     "output_type": "execute_result"
    }
   ],
   "source": [
    "lda.coef_"
   ]
  },
  {
   "cell_type": "code",
   "execution_count": 73,
   "id": "222f5243",
   "metadata": {},
   "outputs": [],
   "source": [
    "lda_coefficients=np.exp(np.abs(lda.coef_))"
   ]
  },
  {
   "cell_type": "code",
   "execution_count": 74,
   "id": "a3986e26",
   "metadata": {},
   "outputs": [
    {
     "data": {
      "text/plain": [
       "array([1.15043118, 1.01881417, 1.01200701, 1.08269002, 1.27524316,\n",
       "       1.59047179, 1.4220935 , 1.72796848, 1.69471457, 1.22766651,\n",
       "       1.17410501, 1.02806997, 1.18180519, 1.01587508, 1.23343477,\n",
       "       1.3613057 , 1.219719  , 1.82941693, 1.23051937, 1.02745859,\n",
       "       1.37313894, 1.27523783, 1.        , 1.01032515, 1.02541201,\n",
       "       1.01648051, 1.01485246, 1.01314097, 1.15553136, 1.04583342,\n",
       "       1.        , 1.01991891, 1.04923885, 1.14249443, 1.02432007,\n",
       "       1.11347106, 1.01092898, 1.        , 1.10927576, 1.04215118,\n",
       "       1.61990926, 1.10358644, 1.02284805, 1.1125187 , 1.01662149,\n",
       "       1.00493241, 1.01595417, 1.03871751, 1.00917108, 1.00554866,\n",
       "       1.1241746 , 1.03341754, 1.        , 1.00752452, 1.0191277 ,\n",
       "       1.01007151, 1.02755   , 1.01236905, 1.        , 1.00637736,\n",
       "       1.        , 1.01606371, 1.00210565, 1.        , 1.25022659,\n",
       "       1.72215797, 1.08821259, 1.02009522, 1.04971325, 1.08298081,\n",
       "       1.02372303, 1.00225393, 1.03531169, 1.01819837, 1.04895664,\n",
       "       1.03523837, 1.17893135, 1.04976998, 1.0715517 , 1.00396009,\n",
       "       1.07397936, 1.02293294, 1.01056249, 1.01279375, 1.00561031,\n",
       "       1.01325273, 1.05240079, 1.20772155, 1.0683376 , 1.2683047 ,\n",
       "       1.10993302, 1.00954797, 1.00931289, 1.1182879 , 1.00215723,\n",
       "       1.02982151])"
      ]
     },
     "execution_count": 74,
     "metadata": {},
     "output_type": "execute_result"
    }
   ],
   "source": [
    "lda_coefficients= lda_coefficients.flatten()\n",
    "lda_coefficients"
   ]
  },
  {
   "cell_type": "code",
   "execution_count": 78,
   "id": "619305c0",
   "metadata": {},
   "outputs": [
    {
     "data": {
      "text/plain": [
       "(96, 96)"
      ]
     },
     "execution_count": 78,
     "metadata": {},
     "output_type": "execute_result"
    }
   ],
   "source": [
    "lda_coefficients.shape[0],(X.shape[1])"
   ]
  },
  {
   "cell_type": "code",
   "execution_count": 79,
   "id": "a8181517",
   "metadata": {},
   "outputs": [],
   "source": [
    "feature_names=list(X.columns)"
   ]
  },
  {
   "cell_type": "code",
   "execution_count": 80,
   "id": "35e4cb4e",
   "metadata": {},
   "outputs": [
    {
     "data": {
      "text/html": [
       "<div>\n",
       "<style scoped>\n",
       "    .dataframe tbody tr th:only-of-type {\n",
       "        vertical-align: middle;\n",
       "    }\n",
       "\n",
       "    .dataframe tbody tr th {\n",
       "        vertical-align: top;\n",
       "    }\n",
       "\n",
       "    .dataframe thead th {\n",
       "        text-align: right;\n",
       "    }\n",
       "</style>\n",
       "<table border=\"1\" class=\"dataframe\">\n",
       "  <thead>\n",
       "    <tr style=\"text-align: right;\">\n",
       "      <th></th>\n",
       "      <th>Feature_names</th>\n",
       "      <th>feature_scores</th>\n",
       "    </tr>\n",
       "  </thead>\n",
       "  <tbody>\n",
       "    <tr>\n",
       "      <th>0</th>\n",
       "      <td>time_left</td>\n",
       "      <td>1.150431</td>\n",
       "    </tr>\n",
       "    <tr>\n",
       "      <th>1</th>\n",
       "      <td>ct_score</td>\n",
       "      <td>1.018814</td>\n",
       "    </tr>\n",
       "    <tr>\n",
       "      <th>2</th>\n",
       "      <td>t_score</td>\n",
       "      <td>1.012007</td>\n",
       "    </tr>\n",
       "    <tr>\n",
       "      <th>3</th>\n",
       "      <td>map</td>\n",
       "      <td>1.082690</td>\n",
       "    </tr>\n",
       "    <tr>\n",
       "      <th>4</th>\n",
       "      <td>bomb_planted</td>\n",
       "      <td>1.275243</td>\n",
       "    </tr>\n",
       "    <tr>\n",
       "      <th>...</th>\n",
       "      <td>...</td>\n",
       "      <td>...</td>\n",
       "    </tr>\n",
       "    <tr>\n",
       "      <th>91</th>\n",
       "      <td>t_grenade_incendiarygrenade</td>\n",
       "      <td>1.009548</td>\n",
       "    </tr>\n",
       "    <tr>\n",
       "      <th>92</th>\n",
       "      <td>ct_grenade_molotovgrenade</td>\n",
       "      <td>1.009313</td>\n",
       "    </tr>\n",
       "    <tr>\n",
       "      <th>93</th>\n",
       "      <td>t_grenade_molotovgrenade</td>\n",
       "      <td>1.118288</td>\n",
       "    </tr>\n",
       "    <tr>\n",
       "      <th>94</th>\n",
       "      <td>ct_grenade_decoygrenade</td>\n",
       "      <td>1.002157</td>\n",
       "    </tr>\n",
       "    <tr>\n",
       "      <th>95</th>\n",
       "      <td>t_grenade_decoygrenade</td>\n",
       "      <td>1.029822</td>\n",
       "    </tr>\n",
       "  </tbody>\n",
       "</table>\n",
       "<p>96 rows × 2 columns</p>\n",
       "</div>"
      ],
      "text/plain": [
       "                  Feature_names  feature_scores\n",
       "0                     time_left        1.150431\n",
       "1                      ct_score        1.018814\n",
       "2                       t_score        1.012007\n",
       "3                           map        1.082690\n",
       "4                  bomb_planted        1.275243\n",
       "..                          ...             ...\n",
       "91  t_grenade_incendiarygrenade        1.009548\n",
       "92    ct_grenade_molotovgrenade        1.009313\n",
       "93     t_grenade_molotovgrenade        1.118288\n",
       "94      ct_grenade_decoygrenade        1.002157\n",
       "95       t_grenade_decoygrenade        1.029822\n",
       "\n",
       "[96 rows x 2 columns]"
      ]
     },
     "execution_count": 80,
     "metadata": {},
     "output_type": "execute_result"
    }
   ],
   "source": [
    "data_feature_score=pd.DataFrame({\"Feature_names\":feature_names,\"feature_scores\":lda_coefficients})\n",
    "data_feature_score"
   ]
  },
  {
   "cell_type": "code",
   "execution_count": 82,
   "id": "dd047dd5",
   "metadata": {},
   "outputs": [
    {
     "data": {
      "text/html": [
       "<div>\n",
       "<style scoped>\n",
       "    .dataframe tbody tr th:only-of-type {\n",
       "        vertical-align: middle;\n",
       "    }\n",
       "\n",
       "    .dataframe tbody tr th {\n",
       "        vertical-align: top;\n",
       "    }\n",
       "\n",
       "    .dataframe thead th {\n",
       "        text-align: right;\n",
       "    }\n",
       "</style>\n",
       "<table border=\"1\" class=\"dataframe\">\n",
       "  <thead>\n",
       "    <tr style=\"text-align: right;\">\n",
       "      <th></th>\n",
       "      <th>Feature_names</th>\n",
       "      <th>feature_scores</th>\n",
       "    </tr>\n",
       "  </thead>\n",
       "  <tbody>\n",
       "    <tr>\n",
       "      <th>17</th>\n",
       "      <td>t_weapon_ak47</td>\n",
       "      <td>1.829417</td>\n",
       "    </tr>\n",
       "    <tr>\n",
       "      <th>7</th>\n",
       "      <td>ct_armor</td>\n",
       "      <td>1.727968</td>\n",
       "    </tr>\n",
       "    <tr>\n",
       "      <th>65</th>\n",
       "      <td>t_weapon_sg553</td>\n",
       "      <td>1.722158</td>\n",
       "    </tr>\n",
       "    <tr>\n",
       "      <th>8</th>\n",
       "      <td>t_armor</td>\n",
       "      <td>1.694715</td>\n",
       "    </tr>\n",
       "    <tr>\n",
       "      <th>40</th>\n",
       "      <td>ct_weapon_m4a4</td>\n",
       "      <td>1.619909</td>\n",
       "    </tr>\n",
       "    <tr>\n",
       "      <th>5</th>\n",
       "      <td>ct_health</td>\n",
       "      <td>1.590472</td>\n",
       "    </tr>\n",
       "    <tr>\n",
       "      <th>6</th>\n",
       "      <td>t_health</td>\n",
       "      <td>1.422093</td>\n",
       "    </tr>\n",
       "    <tr>\n",
       "      <th>20</th>\n",
       "      <td>ct_weapon_awp</td>\n",
       "      <td>1.373139</td>\n",
       "    </tr>\n",
       "    <tr>\n",
       "      <th>15</th>\n",
       "      <td>t_players_alive</td>\n",
       "      <td>1.361306</td>\n",
       "    </tr>\n",
       "    <tr>\n",
       "      <th>4</th>\n",
       "      <td>bomb_planted</td>\n",
       "      <td>1.275243</td>\n",
       "    </tr>\n",
       "    <tr>\n",
       "      <th>21</th>\n",
       "      <td>t_weapon_awp</td>\n",
       "      <td>1.275238</td>\n",
       "    </tr>\n",
       "    <tr>\n",
       "      <th>89</th>\n",
       "      <td>t_grenade_smokegrenade</td>\n",
       "      <td>1.268305</td>\n",
       "    </tr>\n",
       "    <tr>\n",
       "      <th>64</th>\n",
       "      <td>ct_weapon_sg553</td>\n",
       "      <td>1.250227</td>\n",
       "    </tr>\n",
       "    <tr>\n",
       "      <th>14</th>\n",
       "      <td>ct_players_alive</td>\n",
       "      <td>1.233435</td>\n",
       "    </tr>\n",
       "    <tr>\n",
       "      <th>18</th>\n",
       "      <td>ct_weapon_aug</td>\n",
       "      <td>1.230519</td>\n",
       "    </tr>\n",
       "    <tr>\n",
       "      <th>9</th>\n",
       "      <td>ct_money</td>\n",
       "      <td>1.227667</td>\n",
       "    </tr>\n",
       "    <tr>\n",
       "      <th>16</th>\n",
       "      <td>ct_weapon_ak47</td>\n",
       "      <td>1.219719</td>\n",
       "    </tr>\n",
       "    <tr>\n",
       "      <th>87</th>\n",
       "      <td>t_grenade_flashbang</td>\n",
       "      <td>1.207722</td>\n",
       "    </tr>\n",
       "    <tr>\n",
       "      <th>12</th>\n",
       "      <td>t_helmets</td>\n",
       "      <td>1.181805</td>\n",
       "    </tr>\n",
       "    <tr>\n",
       "      <th>76</th>\n",
       "      <td>ct_weapon_usps</td>\n",
       "      <td>1.178931</td>\n",
       "    </tr>\n",
       "  </tbody>\n",
       "</table>\n",
       "</div>"
      ],
      "text/plain": [
       "             Feature_names  feature_scores\n",
       "17           t_weapon_ak47        1.829417\n",
       "7                 ct_armor        1.727968\n",
       "65          t_weapon_sg553        1.722158\n",
       "8                  t_armor        1.694715\n",
       "40          ct_weapon_m4a4        1.619909\n",
       "5                ct_health        1.590472\n",
       "6                 t_health        1.422093\n",
       "20           ct_weapon_awp        1.373139\n",
       "15         t_players_alive        1.361306\n",
       "4             bomb_planted        1.275243\n",
       "21            t_weapon_awp        1.275238\n",
       "89  t_grenade_smokegrenade        1.268305\n",
       "64         ct_weapon_sg553        1.250227\n",
       "14        ct_players_alive        1.233435\n",
       "18           ct_weapon_aug        1.230519\n",
       "9                 ct_money        1.227667\n",
       "16          ct_weapon_ak47        1.219719\n",
       "87     t_grenade_flashbang        1.207722\n",
       "12               t_helmets        1.181805\n",
       "76          ct_weapon_usps        1.178931"
      ]
     },
     "execution_count": 82,
     "metadata": {},
     "output_type": "execute_result"
    }
   ],
   "source": [
    "top_20_values=data_feature_score.nlargest(20,'feature_scores')\n",
    "top_20_values"
   ]
  },
  {
   "cell_type": "code",
   "execution_count": 83,
   "id": "653c69ce",
   "metadata": {},
   "outputs": [
    {
     "data": {
      "text/plain": [
       "Int64Index([17, 7, 65, 8, 40, 5, 6, 20, 15, 4, 21, 89, 64, 14, 18, 9, 16, 87,\n",
       "            12, 76],\n",
       "           dtype='int64')"
      ]
     },
     "execution_count": 83,
     "metadata": {},
     "output_type": "execute_result"
    }
   ],
   "source": [
    "top_20_values.index"
   ]
  },
  {
   "cell_type": "code",
   "execution_count": 84,
   "id": "6eedbfe5",
   "metadata": {},
   "outputs": [],
   "source": [
    "x_train = x_train[:,[17, 7, 65, 8, 40, 5, 6, 20, 15, 4, 21, 89, 64, 14, 18, 9, 16, 87,\n",
    "            12, 76]]"
   ]
  },
  {
   "cell_type": "code",
   "execution_count": 87,
   "id": "7af7cb48",
   "metadata": {},
   "outputs": [],
   "source": [
    "x_test = x_test[:,[17, 7, 65, 8, 40, 5, 6, 20, 15, 4, 21, 89, 64, 14, 18, 9, 16, 87,\n",
    "            12, 76]]"
   ]
  },
  {
   "cell_type": "code",
   "execution_count": 91,
   "id": "f63f1f78",
   "metadata": {},
   "outputs": [],
   "source": [
    "from sklearn.linear_model import LogisticRegression\n",
    "from sklearn.tree import DecisionTreeClassifier\n",
    "from sklearn.ensemble import RandomForestClassifier\n",
    "from sklearn.neighbors import KNeighborsClassifier"
   ]
  },
  {
   "cell_type": "code",
   "execution_count": 92,
   "id": "74eb49ce",
   "metadata": {},
   "outputs": [],
   "source": [
    "models=[]\n",
    "models.append(('lr',LogisticRegression(multi_class='ovr')))\n",
    "models.append(('CART',DecisionTreeClassifier()))\n",
    "models.append(('RFCA',RandomForestClassifier()))\n",
    "models.append(('LDA',LinearDiscriminantAnalysis()))\n",
    "models.append(('KNN',KNeighborsClassifier()))"
   ]
  },
  {
   "cell_type": "code",
   "execution_count": 95,
   "id": "243dd601",
   "metadata": {},
   "outputs": [],
   "source": [
    "import warnings\n",
    "warnings.filterwarnings(\"ignore\")"
   ]
  },
  {
   "cell_type": "code",
   "execution_count": 96,
   "id": "bfb1964a",
   "metadata": {},
   "outputs": [
    {
     "name": "stdout",
     "output_type": "stream",
     "text": [
      "lr: 0.7492851839032015 , 0.005015074189317047\n",
      "CART: 0.795094355945857 , 0.0030607210320509463\n",
      "RFCA: 0.8410260196525596 , 0.0036638866361384816\n",
      "LDA: 0.7481721210344991 , 0.005406821200498\n",
      "KNN: 0.7791030447501852 , 0.0033887201209994947\n"
     ]
    }
   ],
   "source": [
    "from sklearn import model_selection\n",
    "names=[]\n",
    "results=[]\n",
    "for name, model in models:\n",
    "    Kfold=model_selection.KFold(n_splits=10,random_state=15,shuffle=True)\n",
    "    cv_results=model_selection.cross_val_score(model, x_train, y_train, cv=Kfold, scoring='accuracy')\n",
    "    results.append(cv_results)\n",
    "    names.append(name)\n",
    "    print(f\"{name}: {cv_results.mean()} , {cv_results.std()}\")"
   ]
  },
  {
   "cell_type": "code",
   "execution_count": 97,
   "id": "f093342d",
   "metadata": {},
   "outputs": [],
   "source": [
    "model1 = RandomForestClassifier(n_estimators=500).fit(x_train,y_train)\n",
    "y_pred1 = model1.predict(x_test)"
   ]
  },
  {
   "cell_type": "code",
   "execution_count": 99,
   "id": "ae856ead",
   "metadata": {},
   "outputs": [],
   "source": [
    "from sklearn.metrics import confusion_matrix,classification_report"
   ]
  },
  {
   "cell_type": "code",
   "execution_count": 100,
   "id": "046823c3",
   "metadata": {},
   "outputs": [
    {
     "name": "stdout",
     "output_type": "stream",
     "text": [
      "confusion_matrix RandomForest: \n",
      " [[10216  1657]\n",
      " [ 2023 10586]] \n",
      " \n",
      " report RandomForest: \n",
      "               precision    recall  f1-score   support\n",
      "\n",
      "           0       0.83      0.86      0.85     11873\n",
      "           1       0.86      0.84      0.85     12609\n",
      "\n",
      "    accuracy                           0.85     24482\n",
      "   macro avg       0.85      0.85      0.85     24482\n",
      "weighted avg       0.85      0.85      0.85     24482\n",
      "\n"
     ]
    }
   ],
   "source": [
    "cm1 =confusion_matrix(y_test,y_pred1)\n",
    "print(f\"confusion_matrix RandomForest: \\n {cm1} \\n \")\n",
    "print(f\" report RandomForest: \\n {classification_report(y_test,y_pred1)}\")"
   ]
  }
 ],
 "metadata": {
  "kernelspec": {
   "display_name": "Python 3 (ipykernel)",
   "language": "python",
   "name": "python3"
  },
  "language_info": {
   "codemirror_mode": {
    "name": "ipython",
    "version": 3
   },
   "file_extension": ".py",
   "mimetype": "text/x-python",
   "name": "python",
   "nbconvert_exporter": "python",
   "pygments_lexer": "ipython3",
   "version": "3.9.13"
  }
 },
 "nbformat": 4,
 "nbformat_minor": 5
}
